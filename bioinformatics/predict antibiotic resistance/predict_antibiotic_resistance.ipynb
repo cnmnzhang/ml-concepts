{
 "cells": [
  {
   "cell_type": "markdown",
   "id": "e04ffd63-c215-47f9-90e1-d94cab250880",
   "metadata": {},
   "source": [
    "# Imports"
   ]
  },
  {
   "cell_type": "code",
   "execution_count": 1,
   "id": "42744376-f17d-44c0-b9a6-6ef6a6a70793",
   "metadata": {},
   "outputs": [],
   "source": [
    "import os\n",
    "import tensorflow as tf\n",
    "from tensorflow.python import keras\n",
    "import numpy as np  \n",
    "import pandas as pd \n",
    "import matplotlib.pyplot as plt\n",
    "%matplotlib inline\n",
    "\n",
    "from keras.models import Sequential\n",
    "from tensorflow.keras.layers import Flatten, Dense, Dropout, Embedding, LSTM\n",
    "from keras import regularizers, layers, preprocessing\n",
    "from sklearn.metrics import confusion_matrix, ConfusionMatrixDisplay, precision_score, recall_score, accuracy_score, f1_score\n",
    "from sklearn.metrics import roc_auc_score, roc_curve, precision_recall_curve, average_precision_score\n",
    "\n",
    "from keras.preprocessing.text import Tokenizer\n",
    "from keras.utils import pad_sequences"
   ]
  },
  {
   "cell_type": "markdown",
   "id": "81352853-1a05-482d-8e72-08bf8684bd5b",
   "metadata": {},
   "source": [
    "# Data Preprocessing"
   ]
  },
  {
   "cell_type": "code",
   "execution_count": 2,
   "id": "6e75c478-223b-4e5c-bfcc-7cd5e5d11f19",
   "metadata": {},
   "outputs": [
    {
     "name": "stdout",
     "output_type": "stream",
     "text": [
      "<class 'numpy.ndarray'>\n",
      "0\n"
     ]
    }
   ],
   "source": [
    "data_raw = np.load('./data/dataset.npy', allow_pickle=True)\n",
    "print(type(data_raw))\n",
    "print(data_raw.ndim)"
   ]
  },
  {
   "cell_type": "code",
   "execution_count": 3,
   "id": "7c65b2ce-67c8-4ee2-9f86-a47a1a4b432c",
   "metadata": {},
   "outputs": [
    {
     "data": {
      "text/plain": [
       "array({'resistant': array([False, False, False, ...,  True,  True, False]), 'genes': array(['ATGCACTACCGTATGATCCCCCTTCACTGGATGATGGAAATTGACTGCAATGGCTGCGCTAATAATACTTTGTCTCGTCGTTGGAATTACGACTTCTGGCACAAACACGTTGAACAGGTTAAATGCTACCGTCACAATATTCGTGACCAGACTTGA',\n",
       "       'ATGCACTACCGTATGATTCACTGGATGATGGAAATTGACTGCAATGGCTGCGCTAATAATACTTTGTCTCGTCGTTGGAATTACGACTTCTGGCACAAACCCGTTGAACAGGTTAAATGCTACCGTCACAATATTCGTGACCAGACTTGA',\n",
       "       'ATGCACTACCGTATGATTCACTGGATCGTGATGGAAATTGACTGCAATGGCTGCGCTAATAATACTTTGTCTCGTCGTTGGAATTACGACTTCTGGCACAAACACGTTGAACAGGTTAAATGCTACCGTCACAATATTCGTGACCAGACTTGA',\n",
       "       ...,\n",
       "       'ATGCACTACCGTATGATTCACTGGATGATGGAAACTGCAATGGCTGCGCTAATAATACTTTGTCTCGTCGTTGGAATTACGACTTCTGGCACAAACACGTTGAACAGGTTAAATGCTACCGTCACAATATTCGTGACCAGACTTGA',\n",
       "       'ATGCACTACCGTATGATTCACTGGATGATGGAAATTGACTTGCAATGGCTGCGCTAATAATACTTTGTCTCGTCGTTGGAATTACGACTTCTGGCACAAACACGTTGAACAGGTTAAATGCTACCGTCACAATATTCGTGACCAGACTTGA',\n",
       "       'ATGCACTACCGTATGATTCACTGGATGATGGAAATTGACTGCAATGGCTGCGCTAATAATACTTTGTCTCGTCGTTGGAATTACGACTTCTGGCACAAACACGTTGAACAGGTTAAATGCTACCGTCACAATATTCGTGACCAGACTTGA'],\n",
       "      dtype=object)}, dtype=object)"
      ]
     },
     "execution_count": 3,
     "metadata": {},
     "output_type": "execute_result"
    }
   ],
   "source": [
    "data_raw"
   ]
  },
  {
   "cell_type": "code",
   "execution_count": 12,
   "id": "8da8b059-e3e6-48a3-bd52-111c589eab8d",
   "metadata": {},
   "outputs": [
    {
     "data": {
      "text/html": [
       "<div>\n",
       "<style scoped>\n",
       "    .dataframe tbody tr th:only-of-type {\n",
       "        vertical-align: middle;\n",
       "    }\n",
       "\n",
       "    .dataframe tbody tr th {\n",
       "        vertical-align: top;\n",
       "    }\n",
       "\n",
       "    .dataframe thead th {\n",
       "        text-align: right;\n",
       "    }\n",
       "</style>\n",
       "<table border=\"1\" class=\"dataframe\">\n",
       "  <thead>\n",
       "    <tr style=\"text-align: right;\">\n",
       "      <th></th>\n",
       "      <th>resistant</th>\n",
       "      <th>genes</th>\n",
       "    </tr>\n",
       "  </thead>\n",
       "  <tbody>\n",
       "    <tr>\n",
       "      <th>0</th>\n",
       "      <td>False</td>\n",
       "      <td>ATGCACTACCGTATGATCCCCCTTCACTGGATGATGGAAATTGACT...</td>\n",
       "    </tr>\n",
       "    <tr>\n",
       "      <th>1</th>\n",
       "      <td>False</td>\n",
       "      <td>ATGCACTACCGTATGATTCACTGGATGATGGAAATTGACTGCAATG...</td>\n",
       "    </tr>\n",
       "    <tr>\n",
       "      <th>2</th>\n",
       "      <td>False</td>\n",
       "      <td>ATGCACTACCGTATGATTCACTGGATCGTGATGGAAATTGACTGCA...</td>\n",
       "    </tr>\n",
       "    <tr>\n",
       "      <th>3</th>\n",
       "      <td>False</td>\n",
       "      <td>ATGCACTACCGTATGATTCACTGGGTGATGGAAATTGACTGCAATG...</td>\n",
       "    </tr>\n",
       "    <tr>\n",
       "      <th>4</th>\n",
       "      <td>False</td>\n",
       "      <td>ATGCACGACCGTATCATTCACTGGATGATGGAAATTGACTGCAATG...</td>\n",
       "    </tr>\n",
       "    <tr>\n",
       "      <th>...</th>\n",
       "      <td>...</td>\n",
       "      <td>...</td>\n",
       "    </tr>\n",
       "    <tr>\n",
       "      <th>99995</th>\n",
       "      <td>False</td>\n",
       "      <td>ATGCACTACCGTATGATTCACTGGATGATGGAAACTCTCTTTGACT...</td>\n",
       "    </tr>\n",
       "    <tr>\n",
       "      <th>99996</th>\n",
       "      <td>False</td>\n",
       "      <td>ATGCACTACCGTATGATTCACTGGATGATGGAAATTGACTGCAATG...</td>\n",
       "    </tr>\n",
       "    <tr>\n",
       "      <th>99997</th>\n",
       "      <td>True</td>\n",
       "      <td>ATGCACTACCGTATGATTCACTGGATGATGGAAACTGCAATGGCTG...</td>\n",
       "    </tr>\n",
       "    <tr>\n",
       "      <th>99998</th>\n",
       "      <td>True</td>\n",
       "      <td>ATGCACTACCGTATGATTCACTGGATGATGGAAATTGACTTGCAAT...</td>\n",
       "    </tr>\n",
       "    <tr>\n",
       "      <th>99999</th>\n",
       "      <td>False</td>\n",
       "      <td>ATGCACTACCGTATGATTCACTGGATGATGGAAATTGACTGCAATG...</td>\n",
       "    </tr>\n",
       "  </tbody>\n",
       "</table>\n",
       "<p>100000 rows × 2 columns</p>\n",
       "</div>"
      ],
      "text/plain": [
       "       resistant                                              genes\n",
       "0          False  ATGCACTACCGTATGATCCCCCTTCACTGGATGATGGAAATTGACT...\n",
       "1          False  ATGCACTACCGTATGATTCACTGGATGATGGAAATTGACTGCAATG...\n",
       "2          False  ATGCACTACCGTATGATTCACTGGATCGTGATGGAAATTGACTGCA...\n",
       "3          False  ATGCACTACCGTATGATTCACTGGGTGATGGAAATTGACTGCAATG...\n",
       "4          False  ATGCACGACCGTATCATTCACTGGATGATGGAAATTGACTGCAATG...\n",
       "...          ...                                                ...\n",
       "99995      False  ATGCACTACCGTATGATTCACTGGATGATGGAAACTCTCTTTGACT...\n",
       "99996      False  ATGCACTACCGTATGATTCACTGGATGATGGAAATTGACTGCAATG...\n",
       "99997       True  ATGCACTACCGTATGATTCACTGGATGATGGAAACTGCAATGGCTG...\n",
       "99998       True  ATGCACTACCGTATGATTCACTGGATGATGGAAATTGACTTGCAAT...\n",
       "99999      False  ATGCACTACCGTATGATTCACTGGATGATGGAAATTGACTGCAATG...\n",
       "\n",
       "[100000 rows x 2 columns]"
      ]
     },
     "execution_count": 12,
     "metadata": {},
     "output_type": "execute_result"
    }
   ],
   "source": [
    "# data to dict\n",
    "data_dict = data_raw[()]\n",
    "\n",
    "# dict to df\n",
    "data_df = pd.DataFrame.from_dict(data_dict)\n",
    "\n",
    "data_df"
   ]
  },
  {
   "cell_type": "markdown",
   "id": "30da6593-058e-4057-b254-2874a1326550",
   "metadata": {},
   "source": [
    "## Data exploration"
   ]
  },
  {
   "cell_type": "code",
   "execution_count": 14,
   "id": "b3fab2c2-479e-48b7-b28e-e8360a11c6ca",
   "metadata": {},
   "outputs": [
    {
     "data": {
      "text/plain": [
       "0"
      ]
     },
     "execution_count": 14,
     "metadata": {},
     "output_type": "execute_result"
    }
   ],
   "source": [
    "len(data_df[data_df.isna().any(axis=1)])"
   ]
  },
  {
   "cell_type": "code",
   "execution_count": 15,
   "id": "70ab415f-3b5b-4fdd-afe0-0dabca855e48",
   "metadata": {},
   "outputs": [
    {
     "data": {
      "text/plain": [
       "resistant      5\n",
       "genes        156\n",
       "dtype: int64"
      ]
     },
     "execution_count": 15,
     "metadata": {},
     "output_type": "execute_result"
    }
   ],
   "source": [
    "# set uniform lengths\n",
    "data_df.fillna('').astype(str).apply(lambda x:x.str.len()).max()"
   ]
  },
  {
   "cell_type": "code",
   "execution_count": 16,
   "id": "acd6969a-9634-4403-a9d7-76efea219b89",
   "metadata": {},
   "outputs": [
    {
     "data": {
      "text/plain": [
       "0.49703"
      ]
     },
     "execution_count": 16,
     "metadata": {},
     "output_type": "execute_result"
    }
   ],
   "source": [
    "len(data_df[data_df.resistant]) / len(data_df)"
   ]
  },
  {
   "cell_type": "markdown",
   "id": "8045e969-7fa5-4c1a-a1fa-2dbfb0a18e36",
   "metadata": {},
   "source": [
    "## Preprocess"
   ]
  },
  {
   "cell_type": "code",
   "execution_count": 7,
   "id": "eb8d8f99-e18b-4267-b131-6eb52a58954b",
   "metadata": {},
   "outputs": [
    {
     "name": "stdout",
     "output_type": "stream",
     "text": [
      "Found 4 unique tokens.\n",
      "word_index {'a': 1, 't': 2, 'c': 3, 'g': 4}\n"
     ]
    }
   ],
   "source": [
    "# Tokenize from characters to integers \n",
    "maxlen = 160 # cut off after this number of characters in a string\n",
    "\n",
    "max_words = 4 # considers only characters in the dictionary A C T G\n",
    "max_features = max_words\n",
    "\n",
    "tokenizer = Tokenizer(num_words=max_words, char_level=True)\n",
    "tokenizer.fit_on_texts(list(data_df['genes']))\n",
    "\n",
    "# sequences and then pad / truncate data\n",
    "sequences = tokenizer.texts_to_sequences(list(data_df['genes']))\n",
    "Xpad = pad_sequences(sequences, maxlen=maxlen, padding='post', truncating='post', value=0)\n",
    "\n",
    "print('Found %s unique tokens.' % len(tokenizer.word_index))\n",
    "print('word_index', tokenizer.word_index)"
   ]
  },
  {
   "cell_type": "markdown",
   "id": "644d9c2b-b594-4df4-834d-4d4d1db5a03f",
   "metadata": {},
   "source": [
    "## Separate the label"
   ]
  },
  {
   "cell_type": "code",
   "execution_count": 8,
   "id": "92b4ced5-0717-4e18-8492-1c7b10b3da1c",
   "metadata": {},
   "outputs": [
    {
     "name": "stdout",
     "output_type": "stream",
     "text": [
      "(100000, 160)\n",
      "(100000,)\n"
     ]
    }
   ],
   "source": [
    "labels = np.asarray(data_df['resistant'])\n",
    "print(Xpad.shape)\n",
    "print(labels.shape)"
   ]
  },
  {
   "cell_type": "code",
   "execution_count": 9,
   "id": "98235fdd-f33d-45aa-9cd5-ba3447399f5f",
   "metadata": {},
   "outputs": [
    {
     "name": "stdout",
     "output_type": "stream",
     "text": [
      "ATGCACTACCGTATGATTCACTGGGTGATGGAAATTGACTGCAATGGCTGCGCTAATAATACTTTGTCTCGTCGTTGGAATTACGACTTCTGGCACAAACACGTTGAACAGGTTAAATGCTACCGTCACAATATTCGTGACCAGACTTGA\n",
      "[1, 2, 3, 1, 3, 2, 1, 3, 3, 2, 1, 2, 1, 2, 2, 3, 1, 3, 2, 2, 1, 2, 1, 1, 1, 2, 2, 1, 3, 2, 3, 1, 1, 2, 3, 2, 3, 3, 2, 1, 1, 2, 1, 1, 2, 1, 3, 2, 2, 2, 2, 3, 2, 3, 2, 3, 2, 2, 1, 1, 2, 2, 1, 3, 1, 3, 2, 2, 3, 2, 3, 1, 3, 1, 1, 1, 3, 1, 3, 2, 2, 1, 1, 3, 1, 2, 2, 1, 1, 1, 2, 3, 2, 1, 3, 3, 2, 3, 1, 3, 1, 1, 2, 1, 2, 2, 3, 2, 1, 3, 3, 1, 1, 3, 2, 2, 1]\n",
      "[1 2 3 1 3 2 1 3 3 2 1 2 1 2 2 3 1 3 2 2 1 2 1 1 1 2 2 1 3 2 3 1 1 2 3 2 3\n",
      " 3 2 1 1 2 1 1 2 1 3 2 2 2 2 3 2 3 2 3 2 2 1 1 2 2 1 3 1 3 2 2 3 2 3 1 3 1\n",
      " 1 1 3 1 3 2 2 1 1 3 1 2 2 1 1 1 2 3 2 1 3 3 2 3 1 3 1 1 2 1 2 2 3 2 1 3 3\n",
      " 1 1 3 2 2 1 0 0 0 0 0 0 0 0 0 0 0 0 0 0 0 0 0 0 0 0 0 0 0 0 0 0 0 0 0 0 0\n",
      " 0 0 0 0 0 0 0 0 0 0 0 0]\n",
      "False\n"
     ]
    }
   ],
   "source": [
    "# Check a sample\n",
    "\n",
    "rowNum = 3\n",
    "print(data_df['genes'][rowNum])\n",
    "print(sequences[rowNum])\n",
    "print(Xpad[rowNum])\n",
    "print(labels[rowNum])"
   ]
  },
  {
   "cell_type": "markdown",
   "id": "4c3ed8b8-25bc-45ed-8cce-f5cf6f2210ad",
   "metadata": {},
   "source": [
    "## Create train, val, and test datasets"
   ]
  },
  {
   "cell_type": "code",
   "execution_count": 10,
   "id": "5a390a5e-70b9-4b9a-a8c5-9fa43d10b290",
   "metadata": {},
   "outputs": [
    {
     "name": "stdout",
     "output_type": "stream",
     "text": [
      "x_train (90000, 160)\n",
      "y_train (90000,)\n",
      "x_test (10000, 160)\n",
      "y_test (10000,)\n"
     ]
    }
   ],
   "source": [
    "training_samples = int(Xpad.shape[0] * 0.9)\n",
    "# The validation is being taken by keras - below\n",
    "# test = remaining\n",
    "\n",
    "indices = np.arange(Xpad.shape[0])\n",
    "# np.random.shuffle(indices) # FOR TESTING PURPOSES comment it out - to keep indices as above\n",
    "\n",
    "Xpad = Xpad[indices]\n",
    "labels = labels[indices]\n",
    "\n",
    "x_train = Xpad[:training_samples]\n",
    "y_train = labels[:training_samples]\n",
    "x_test = Xpad[training_samples: ]\n",
    "y_test = labels[training_samples: ]\n",
    "\n",
    "print('x_train', x_train.shape)\n",
    "print('y_train', y_train.shape)\n",
    "print('x_test', x_test.shape)\n",
    "print('y_test', y_test.shape)"
   ]
  },
  {
   "cell_type": "markdown",
   "id": "55138d98-fc7c-4117-921c-741ebcaf8fa0",
   "metadata": {},
   "source": [
    "# Train Model"
   ]
  },
  {
   "cell_type": "markdown",
   "id": "425e1b3e-55a0-499d-bdd9-598d0dac666a",
   "metadata": {},
   "source": [
    "## Sequential"
   ]
  },
  {
   "cell_type": "code",
   "execution_count": 11,
   "id": "1f3aaaa0-040c-44b5-bcb4-427f99f59658",
   "metadata": {},
   "outputs": [
    {
     "name": "stdout",
     "output_type": "stream",
     "text": [
      "Model: \"sequential\"\n",
      "_________________________________________________________________\n",
      " Layer (type)                Output Shape              Param #   \n",
      "=================================================================\n",
      " embedding (Embedding)       (None, 160, 1)            4         \n",
      "                                                                 \n",
      " conv1d (Conv1D)             (None, 134, 128)          3584      \n",
      "                                                                 \n",
      " max_pooling1d (MaxPooling1D  (None, 14, 128)          0         \n",
      " )                                                               \n",
      "                                                                 \n",
      " dropout (Dropout)           (None, 14, 128)           0         \n",
      "                                                                 \n",
      " conv1d_1 (Conv1D)           (None, 6, 128)            147584    \n",
      "                                                                 \n",
      " dropout_1 (Dropout)         (None, 6, 128)            0         \n",
      "                                                                 \n",
      " bidirectional (Bidirectiona  (None, 64)               31104     \n",
      " l)                                                              \n",
      "                                                                 \n",
      " dense (Dense)               (None, 1)                 65        \n",
      "                                                                 \n",
      "=================================================================\n",
      "Total params: 182,341\n",
      "Trainable params: 182,341\n",
      "Non-trainable params: 0\n",
      "_________________________________________________________________\n"
     ]
    }
   ],
   "source": [
    "# Model ... 128 CNN window 27 & Bidirectional GRU accuracy = \n",
    "\n",
    "# Define a Sequential model\n",
    "model = Sequential()\n",
    "\n",
    "# Embedding Layer: Maps integer indices to dense vectors of fixed size \n",
    "# (length 4 vocabulary size to 1 in this case)\n",
    "model.add(Embedding(4, 1, input_length=maxlen))\n",
    "\n",
    "# Convolutional Layer 1: 128 filters, window size 27\n",
    "model.add(layers.Conv1D(128, 27, activation='relu'))\n",
    "\n",
    "# MaxPooling Layer: Downsamples the output of the previous layer by taking the maximum value over a window of specified size (9 in this case)\n",
    "model.add(layers.MaxPooling1D(9))\n",
    "\n",
    "# Dropout Layer 1: Regularization technique to prevent overfitting by randomly setting a fraction of input units to 0 at each update\n",
    "model.add(layers.Dropout(0.5))\n",
    "\n",
    "# Convolutional Layer 2: 128 filters, window size 9, ReLU activation\n",
    "model.add(layers.Conv1D(128, 9, activation='relu'))\n",
    "\n",
    "# Dropout Layer 2: Regularization\n",
    "model.add(layers.Dropout(0.5))\n",
    "\n",
    "# Bidirectional GRU Layer: Gated Recurrent Unit with 32 units, dropout for input and recurrent connections\n",
    "model.add(layers.Bidirectional(layers.GRU(32, dropout=0.2, recurrent_dropout=0.2)))\n",
    "\n",
    "# Dense Layer: Output layer with 1 unit and sigmoid activation for binary classification\n",
    "model.add(Dense(1, activation='sigmoid'))\n",
    "\n",
    "# Compile the model\n",
    "model.compile(optimizer='adam', loss='binary_crossentropy', metrics=['acc'])\n",
    "\n",
    "# Display a summary of the model architecture, including the number of parameters in each layer\n",
    "model.summary()"
   ]
  },
  {
   "cell_type": "code",
   "execution_count": 12,
   "id": "ff9a2c8c-ff23-461b-8b4b-974ef31a3ea1",
   "metadata": {},
   "outputs": [],
   "source": [
    "### Train / Validate model"
   ]
  },
  {
   "cell_type": "code",
   "execution_count": 13,
   "id": "07fc99e5-837c-4c8a-937c-922a983cf423",
   "metadata": {},
   "outputs": [
    {
     "name": "stdout",
     "output_type": "stream",
     "text": [
      "Epoch 1/10\n",
      "2250/2250 [==============================] - 26s 11ms/step - loss: 0.6570 - acc: 0.5686 - val_loss: 0.5562 - val_acc: 0.6671\n",
      "Epoch 2/10\n",
      "2250/2250 [==============================] - 23s 10ms/step - loss: 0.5178 - acc: 0.7059 - val_loss: 0.4533 - val_acc: 0.7413\n",
      "Epoch 3/10\n",
      "2250/2250 [==============================] - 35s 15ms/step - loss: 0.4693 - acc: 0.7349 - val_loss: 0.4200 - val_acc: 0.7669\n",
      "Epoch 4/10\n",
      "2250/2250 [==============================] - 31s 14ms/step - loss: 0.4456 - acc: 0.7513 - val_loss: 0.4095 - val_acc: 0.7820\n",
      "Epoch 5/10\n",
      "2250/2250 [==============================] - 20s 9ms/step - loss: 0.4349 - acc: 0.7584 - val_loss: 0.4022 - val_acc: 0.7846\n",
      "Epoch 6/10\n",
      "2250/2250 [==============================] - 18s 8ms/step - loss: 0.4236 - acc: 0.7636 - val_loss: 0.3939 - val_acc: 0.7856\n",
      "Epoch 7/10\n",
      "2250/2250 [==============================] - 17s 8ms/step - loss: 0.4167 - acc: 0.7681 - val_loss: 0.3909 - val_acc: 0.7808\n",
      "Epoch 8/10\n",
      "2250/2250 [==============================] - 16s 7ms/step - loss: 0.4104 - acc: 0.7716 - val_loss: 0.3881 - val_acc: 0.7809\n",
      "Epoch 9/10\n",
      "2250/2250 [==============================] - 16s 7ms/step - loss: 0.4070 - acc: 0.7748 - val_loss: 0.3830 - val_acc: 0.7863\n",
      "Epoch 10/10\n",
      "2250/2250 [==============================] - 17s 7ms/step - loss: 0.4031 - acc: 0.7760 - val_loss: 0.4043 - val_acc: 0.7473\n"
     ]
    }
   ],
   "source": [
    "history = model.fit(x_train, y_train,\n",
    "    epochs = 10,\n",
    "    batch_size=32,\n",
    "    validation_split=0.2)"
   ]
  },
  {
   "cell_type": "markdown",
   "id": "1806d20a-4e4e-4be1-8a08-c68da8950e0c",
   "metadata": {},
   "source": [
    "### Learning curves"
   ]
  },
  {
   "cell_type": "code",
   "execution_count": 14,
   "id": "fb9fb5db-2789-4db3-987e-123031314c02",
   "metadata": {},
   "outputs": [
    {
     "data": {
      "image/png": "[encoded data removed]",
      "text/plain": [
       "<Figure size 640x480 with 1 Axes>"
      ]
     },
     "metadata": {},
     "output_type": "display_data"
    },
    {
     "data": {
      "image/png": "[encoded data removed]",
      "text/plain": [
       "<Figure size 640x480 with 1 Axes>"
      ]
     },
     "metadata": {},
     "output_type": "display_data"
    }
   ],
   "source": [
    "# VALIDATION LOSS curves\n",
    "\n",
    "plt.clf()\n",
    "history_dict = history.history\n",
    "loss_values = history_dict['loss']\n",
    "val_loss_values = history_dict['val_loss']\n",
    "epochs = range(1, (len(history_dict['loss']) + 1))\n",
    "plt.plot(epochs, loss_values, 'bo', label='Training loss')\n",
    "plt.plot(epochs, val_loss_values, 'r', label='Validation loss')\n",
    "plt.title('Training and validation loss')\n",
    "plt.xlabel('Epochs')\n",
    "plt.ylabel('Loss')\n",
    "plt.legend()\n",
    "plt.show()\n",
    "\n",
    "# VALIDATION ACCURACY curves\n",
    "\n",
    "plt.clf()\n",
    "acc_values = history_dict['acc']\n",
    "val_acc_values = history_dict['val_acc']\n",
    "epochs = range(1, (len(history_dict['acc']) + 1))\n",
    "plt.plot(epochs, acc_values, 'bo', label='Training acc')\n",
    "plt.plot(epochs, val_acc_values, 'r', label='Validation acc')\n",
    "plt.title('Training and validation accuracy')\n",
    "plt.xlabel('Epochs')\n",
    "plt.ylabel('Accuracy')\n",
    "plt.legend()\n",
    "plt.show()"
   ]
  },
  {
   "cell_type": "markdown",
   "id": "dea28582-7de5-4601-a14b-f77da639968a",
   "metadata": {},
   "source": [
    "### Predict Test"
   ]
  },
  {
   "cell_type": "code",
   "execution_count": 15,
   "id": "e5607424-dc87-43ee-8418-9dc7ca948859",
   "metadata": {},
   "outputs": [
    {
     "name": "stdout",
     "output_type": "stream",
     "text": [
      "313/313 [==============================] - 1s 2ms/step\n",
      "[[1.]\n",
      " [1.]\n",
      " [0.]\n",
      " ...\n",
      " [1.]\n",
      " [1.]\n",
      " [1.]]\n"
     ]
    }
   ],
   "source": [
    "final_predictions = model.predict(x_test)\n",
    "\n",
    "# Modify the raw final_predictions - prediction probs  - into 0 and 1\n",
    "Preds = final_predictions.copy()\n",
    "Preds[ np.where( Preds >= 0.5 ) ] = 1\n",
    "Preds[ np.where( Preds < 0.5 ) ] = 0\n",
    "print(Preds)"
   ]
  },
  {
   "cell_type": "markdown",
   "id": "7eb0fc11-fe03-4307-9b51-160dfea0aa88",
   "metadata": {},
   "source": [
    "### Results"
   ]
  },
  {
   "cell_type": "markdown",
   "id": "abba3172-2904-49d2-992f-0985a16feb55",
   "metadata": {},
   "source": [
    "#### Confusion matrix"
   ]
  },
  {
   "cell_type": "code",
   "execution_count": 16,
   "id": "34ec25e9-3929-4b1b-9dae-e7add498c0a7",
   "metadata": {},
   "outputs": [
    {
     "data": {
      "text/plain": [
       "Text(0.5, 0, 'Predicted label')"
      ]
     },
     "execution_count": 16,
     "metadata": {},
     "output_type": "execute_result"
    },
    {
     "data": {
      "image/png": "[encoded data removed]",
      "text/plain": [
       "<Figure size 640x480 with 2 Axes>"
      ]
     },
     "metadata": {},
     "output_type": "display_data"
    }
   ],
   "source": [
    "cm = confusion_matrix(y_test, Preds)\n",
    "disp = ConfusionMatrixDisplay(cm, \n",
    "                      display_labels = ['resistant', 'sensistive'],\n",
    "\n",
    "                      )\n",
    "disp.plot(cmap='Blues')\n",
    "plt.title('Confusion Matrix for Sequential')\n",
    "plt.ylabel('True label')\n",
    "plt.xlabel('Predicted label')"
   ]
  },
  {
   "cell_type": "code",
   "execution_count": 17,
   "id": "4b5b9ecd-0d78-475c-893f-cb00de2dfed1",
   "metadata": {},
   "outputs": [
    {
     "name": "stdout",
     "output_type": "stream",
     "text": [
      "precision: \t 0.718305026591182\n",
      "recall: \t 0.837902741644987\n",
      "accuracy: \t 0.7548\n",
      "F1 score: \t 0.7735082209495658\n"
     ]
    }
   ],
   "source": [
    "print ('precision: \\t',precision_score(y_test, Preds))\n",
    "print ('recall: \\t',recall_score(y_test, Preds))\n",
    "print ('accuracy: \\t',accuracy_score(y_test, Preds))\n",
    "print ('F1 score: \\t',f1_score(y_test, Preds))"
   ]
  },
  {
   "cell_type": "markdown",
   "id": "599b36af-5693-471a-858c-102e1f7eea9a",
   "metadata": {},
   "source": [
    "#### AUCROC\n",
    "- AUC/ROC curves should be used when there are roughly equal numbers of observations for each class\n",
    "- Precision-Recall curves should be used when there is a moderate to large class imbalance\n"
   ]
  },
  {
   "cell_type": "code",
   "execution_count": 18,
   "id": "ff34e03b-e70f-477e-9d03-237e1a33d6c9",
   "metadata": {},
   "outputs": [
    {
     "name": "stdout",
     "output_type": "stream",
     "text": [
      "AUC: 0.755\n"
     ]
    },
    {
     "data": {
      "image/png": "[encoded data removed]",
      "text/plain": [
       "<Figure size 640x480 with 1 Axes>"
      ]
     },
     "metadata": {},
     "output_type": "display_data"
    }
   ],
   "source": [
    "# calculate AUC\n",
    "auc = roc_auc_score(y_test, Preds)\n",
    "print('AUC: %.3f' % auc)\n",
    "# calculate roc curve\n",
    "fpr, tpr, thresholds = roc_curve(y_test, Preds)\n",
    "plt.plot([0, 1], [0, 1], linestyle='--')\n",
    "# plot the roc curve for the model\n",
    "plt.plot(fpr, tpr, marker='.')\n",
    "plt.title('ROC ')\n",
    "plt.show()"
   ]
  },
  {
   "cell_type": "markdown",
   "id": "3bf32c92-8299-486d-a3d8-df61b99e1a02",
   "metadata": {},
   "source": [
    "# Codons instead of nucleotides"
   ]
  },
  {
   "cell_type": "code",
   "execution_count": 19,
   "id": "a8b1d71a-4120-4c9b-b9d7-374b4136e188",
   "metadata": {},
   "outputs": [
    {
     "data": {
      "text/html": [
       "<div>\n",
       "<style scoped>\n",
       "    .dataframe tbody tr th:only-of-type {\n",
       "        vertical-align: middle;\n",
       "    }\n",
       "\n",
       "    .dataframe tbody tr th {\n",
       "        vertical-align: top;\n",
       "    }\n",
       "\n",
       "    .dataframe thead th {\n",
       "        text-align: right;\n",
       "    }\n",
       "</style>\n",
       "<table border=\"1\" class=\"dataframe\">\n",
       "  <thead>\n",
       "    <tr style=\"text-align: right;\">\n",
       "      <th></th>\n",
       "      <th>resistant</th>\n",
       "      <th>genes</th>\n",
       "      <th>codons</th>\n",
       "    </tr>\n",
       "  </thead>\n",
       "  <tbody>\n",
       "    <tr>\n",
       "      <th>0</th>\n",
       "      <td>False</td>\n",
       "      <td>ATGCACTACCGTATGATCCCCCTTCACTGGATGATGGAAATTGACT...</td>\n",
       "      <td>[ATG, CAC, TAC, CGT, ATG, ATC, CCC, CTT, CAC, ...</td>\n",
       "    </tr>\n",
       "    <tr>\n",
       "      <th>1</th>\n",
       "      <td>False</td>\n",
       "      <td>ATGCACTACCGTATGATTCACTGGATGATGGAAATTGACTGCAATG...</td>\n",
       "      <td>[ATG, CAC, TAC, CGT, ATG, ATT, CAC, TGG, ATG, ...</td>\n",
       "    </tr>\n",
       "    <tr>\n",
       "      <th>2</th>\n",
       "      <td>False</td>\n",
       "      <td>ATGCACTACCGTATGATTCACTGGATCGTGATGGAAATTGACTGCA...</td>\n",
       "      <td>[ATG, CAC, TAC, CGT, ATG, ATT, CAC, TGG, ATC, ...</td>\n",
       "    </tr>\n",
       "  </tbody>\n",
       "</table>\n",
       "</div>"
      ],
      "text/plain": [
       "   resistant                                              genes  \\\n",
       "0      False  ATGCACTACCGTATGATCCCCCTTCACTGGATGATGGAAATTGACT...   \n",
       "1      False  ATGCACTACCGTATGATTCACTGGATGATGGAAATTGACTGCAATG...   \n",
       "2      False  ATGCACTACCGTATGATTCACTGGATCGTGATGGAAATTGACTGCA...   \n",
       "\n",
       "                                              codons  \n",
       "0  [ATG, CAC, TAC, CGT, ATG, ATC, CCC, CTT, CAC, ...  \n",
       "1  [ATG, CAC, TAC, CGT, ATG, ATT, CAC, TGG, ATG, ...  \n",
       "2  [ATG, CAC, TAC, CGT, ATG, ATT, CAC, TGG, ATC, ...  "
      ]
     },
     "execution_count": 19,
     "metadata": {},
     "output_type": "execute_result"
    }
   ],
   "source": [
    "# From nucleotides to codons ... w/o considering the start / stop codons as the data is synthetic and may not have these\n",
    "\n",
    "DataCod = data_df.copy()\n",
    "Codons = list(data_df['genes'])\n",
    "\n",
    "for n in range(len(Codons)):\n",
    "    Codons[n] = list([Codons[n][i:i+3] for i in range(0, len(Codons[n]), 3)])\n",
    "    \n",
    "DataCod['codons'] = Codons\n",
    "DataCod.head(3)"
   ]
  },
  {
   "cell_type": "markdown",
   "id": "24a3f93b-a515-424b-b660-9acc2da96944",
   "metadata": {},
   "source": [
    "## Tokenize from codons to integers"
   ]
  },
  {
   "cell_type": "code",
   "execution_count": 20,
   "id": "aa2dab8d-0b3d-419b-b82d-efb6ee316aa9",
   "metadata": {},
   "outputs": [
    {
     "name": "stdout",
     "output_type": "stream",
     "text": [
      "Found 66 unique tokens.\n",
      "word_index {'cac': 1, 'cgt': 2, 'aat': 3, 'atg': 4, 'tac': 5, 'att': 6, 'tgg': 7, 'gac': 8, 'tgc': 9, 'act': 10, 'gtt': 11, 'gaa': 12, 'aaa': 13, 'cag': 14, 'tga': 15, 'ttg': 16, 'gct': 17, 'ttc': 18, 'tct': 19, 'ggc': 20, 'aca': 21, 'taa': 22, 'ctg': 23, 'ata': 24, 'caa': 25, 'ctt': 26, 'tcg': 27, 'gtc': 28, 'aac': 29, 'gga': 30, 'acg': 31, 'gca': 32, 'tta': 33, 'cta': 34, 'acc': 35, 'gat': 36, 'tca': 37, 'tat': 38, 'agg': 39, 'tgt': 40, 'gtg': 41, 'cga': 42, 'cgc': 43, 'ttt': 44, 'aga': 45, 'ggt': 46, 'ctc': 47, 'cca': 48, 'ccg': 49, 'gcg': 50, 'a': 51, 'ga': 52, 'tag': 53, 'atc': 54, 'cat': 55, 'agt': 56, 'cgg': 57, 'aag': 58, 'gag': 59, 'cct': 60, 'gta': 61, 'ggg': 62, 'tcc': 63, 'agc': 64, 'ccc': 65, 'gcc': 66}\n"
     ]
    }
   ],
   "source": [
    "maxlen = 160//3 # cut off after this number of codons in a list\n",
    "\n",
    "max_words = 64 # considers only the top number of codons  in the dictionary (It finds 66 below because of 'a' and 'ga')\n",
    "max_features = max_words\n",
    "\n",
    "#tokenizer = Tokenizer(num_words=max_words, char_level=True)\n",
    "tokenizer = Tokenizer(num_words=max_words)\n",
    "tokenizer.fit_on_texts(list(DataCod['codons']))\n",
    "sequences = tokenizer.texts_to_sequences(list(DataCod['codons']))\n",
    "Xpad = pad_sequences(sequences, maxlen=maxlen, padding='post', truncating='post', value=0)\n",
    "\n",
    "print('Found %s unique tokens.' % len(tokenizer.word_index))\n",
    "print('word_index', tokenizer.word_index)"
   ]
  },
  {
   "cell_type": "code",
   "execution_count": 59,
   "id": "e592e8c2-66f4-4b7b-a311-3ef2768289ae",
   "metadata": {},
   "outputs": [
    {
     "data": {
      "text/plain": [
       "100000"
      ]
     },
     "execution_count": 59,
     "metadata": {},
     "output_type": "execute_result"
    }
   ],
   "source": [
    "len(sequences)"
   ]
  },
  {
   "cell_type": "markdown",
   "id": "f83b3586-763d-40a5-8063-1c6973380016",
   "metadata": {},
   "source": [
    "## Separate the label"
   ]
  },
  {
   "cell_type": "code",
   "execution_count": 21,
   "id": "2638798e-4e7e-42d8-8bf4-70e0ba9cc18b",
   "metadata": {},
   "outputs": [
    {
     "name": "stdout",
     "output_type": "stream",
     "text": [
      "(100000, 53)\n",
      "(100000,)\n"
     ]
    }
   ],
   "source": [
    "labels = np.asarray(DataCod['resistant'])\n",
    "print(Xpad.shape)\n",
    "print(labels.shape)"
   ]
  },
  {
   "cell_type": "code",
   "execution_count": 22,
   "id": "b09b15ba-2ee1-440d-b613-7332b039f117",
   "metadata": {},
   "outputs": [
    {
     "name": "stdout",
     "output_type": "stream",
     "text": [
      "ATGCACTACCGTATGATTCACTGGGTGATGGAAATTGACTGCAATGGCTGCGCTAATAATACTTTGTCTCGTCGTTGGAATTACGACTTCTGGCACAAACACGTTGAACAGGTTAAATGCTACCGTCACAATATTCGTGACCAGACTTGA\n",
      "['ATG', 'CAC', 'TAC', 'CGT', 'ATG', 'ATT', 'CAC', 'TGG', 'GTG', 'ATG', 'GAA', 'ATT', 'GAC', 'TGC', 'AAT', 'GGC', 'TGC', 'GCT', 'AAT', 'AAT', 'ACT', 'TTG', 'TCT', 'CGT', 'CGT', 'TGG', 'AAT', 'TAC', 'GAC', 'TTC', 'TGG', 'CAC', 'AAA', 'CAC', 'GTT', 'GAA', 'CAG', 'GTT', 'AAA', 'TGC', 'TAC', 'CGT', 'CAC', 'AAT', 'ATT', 'CGT', 'GAC', 'CAG', 'ACT', 'TGA']\n",
      "[4, 1, 5, 2, 4, 6, 1, 7, 41, 4, 12, 6, 8, 9, 3, 20, 9, 17, 3, 3, 10, 16, 19, 2, 2, 7, 3, 5, 8, 18, 7, 1, 13, 1, 11, 12, 14, 11, 13, 9, 5, 2, 1, 3, 6, 2, 8, 14, 10, 15]\n",
      "[ 4  1  5  2  4  6  1  7 41  4 12  6  8  9  3 20  9 17  3  3 10 16 19  2\n",
      "  2  7  3  5  8 18  7  1 13  1 11 12 14 11 13  9  5  2  1  3  6  2  8 14\n",
      " 10 15  0  0  0]\n",
      "False\n"
     ]
    }
   ],
   "source": [
    "# Check a sample\n",
    "rowNum = 3\n",
    "print(DataCod['genes'][rowNum])\n",
    "print(DataCod['codons'][rowNum])\n",
    "print(sequences[rowNum])\n",
    "print(Xpad[rowNum])\n",
    "print(labels[rowNum])"
   ]
  },
  {
   "cell_type": "code",
   "execution_count": 23,
   "id": "207f41d1-2097-4895-87a1-e72b851be8dc",
   "metadata": {},
   "outputs": [],
   "source": [
    "## Create train, val, and test datasets"
   ]
  },
  {
   "cell_type": "code",
   "execution_count": 24,
   "id": "1a0d330a-0a04-4030-8f51-ae33e3f8c51a",
   "metadata": {},
   "outputs": [
    {
     "name": "stdout",
     "output_type": "stream",
     "text": [
      "x_train (90000, 53)\n",
      "y_train (90000,)\n",
      "x_test (10000, 53)\n",
      "y_test (10000,)\n"
     ]
    }
   ],
   "source": [
    "training_samples = int(Xpad.shape[0] * 0.9)\n",
    "\n",
    "indices = np.arange(Xpad.shape[0])\n",
    "# np.random.shuffle(indices) # FOR TESTING PURPOSES comment it out - to keep indices as above\n",
    "\n",
    "Xpad = Xpad[indices]\n",
    "labels = labels[indices]\n",
    "\n",
    "x_train = Xpad[:training_samples]\n",
    "y_train = labels[:training_samples]\n",
    "x_test = Xpad[training_samples: ]\n",
    "y_test = labels[training_samples: ]\n",
    "\n",
    "print('x_train', x_train.shape)\n",
    "print('y_train', y_train.shape)\n",
    "print('x_test', x_test.shape)\n",
    "print('y_test', y_test.shape)"
   ]
  },
  {
   "cell_type": "markdown",
   "id": "5320bf74-a179-4038-91c2-6a29f686ef18",
   "metadata": {},
   "source": [
    "## Sequential"
   ]
  },
  {
   "cell_type": "code",
   "execution_count": 25,
   "id": "1987674e-c643-45c9-acc3-a6083d9e19e1",
   "metadata": {},
   "outputs": [
    {
     "name": "stdout",
     "output_type": "stream",
     "text": [
      "Model: \"sequential_1\"\n",
      "_________________________________________________________________\n",
      " Layer (type)                Output Shape              Param #   \n",
      "=================================================================\n",
      " embedding_1 (Embedding)     (None, 53, 1)             64        \n",
      "                                                                 \n",
      " conv1d_2 (Conv1D)           (None, 27, 128)           3584      \n",
      "                                                                 \n",
      " max_pooling1d_1 (MaxPooling  (None, 9, 128)           0         \n",
      " 1D)                                                             \n",
      "                                                                 \n",
      " dropout_2 (Dropout)         (None, 9, 128)            0         \n",
      "                                                                 \n",
      " conv1d_3 (Conv1D)           (None, 1, 128)            147584    \n",
      "                                                                 \n",
      " dropout_3 (Dropout)         (None, 1, 128)            0         \n",
      "                                                                 \n",
      " bidirectional_1 (Bidirectio  (None, 64)               31104     \n",
      " nal)                                                            \n",
      "                                                                 \n",
      " dense_1 (Dense)             (None, 1)                 65        \n",
      "                                                                 \n",
      "=================================================================\n",
      "Total params: 182,401\n",
      "Trainable params: 182,401\n",
      "Non-trainable params: 0\n",
      "_________________________________________________________________\n"
     ]
    }
   ],
   "source": [
    "# Model ... 64 CNN window 27 & Bidirectional GRU accuracy = 0.99\n",
    "\n",
    "model = Sequential()\n",
    "model.add(Embedding(64, 1, input_length=maxlen))\n",
    "model.add(layers.Conv1D(128, 27, activation='relu'))\n",
    "model.add(layers.MaxPooling1D(3))\n",
    "model.add(layers.Dropout(0.5))\n",
    "model.add(layers.Conv1D(128, 9, activation='relu'))\n",
    "model.add(layers.Dropout(0.5))\n",
    "model.add(layers.Bidirectional(layers.GRU(32, dropout=0.2, recurrent_dropout=0.2)))\n",
    "model.add(Dense(1, activation='sigmoid'))\n",
    "model.compile(optimizer='adam', loss='binary_crossentropy', metrics=['acc'])\n",
    "model.summary()"
   ]
  },
  {
   "cell_type": "code",
   "execution_count": 26,
   "id": "d8602693-b7b2-4c85-8dbf-7bbca7dc5292",
   "metadata": {},
   "outputs": [
    {
     "name": "stdout",
     "output_type": "stream",
     "text": [
      "Epoch 1/10\n",
      "2250/2250 [==============================] - 9s 3ms/step - loss: 0.0955 - acc: 0.9620 - val_loss: 0.0460 - val_acc: 0.9873\n",
      "Epoch 2/10\n",
      "2250/2250 [==============================] - 8s 3ms/step - loss: 0.0446 - acc: 0.9881 - val_loss: 0.0420 - val_acc: 0.9873\n",
      "Epoch 3/10\n",
      "2250/2250 [==============================] - 7s 3ms/step - loss: 0.0414 - acc: 0.9884 - val_loss: 0.0396 - val_acc: 0.9874\n",
      "Epoch 4/10\n",
      "2250/2250 [==============================] - 6s 3ms/step - loss: 0.0394 - acc: 0.9884 - val_loss: 0.0397 - val_acc: 0.9873\n",
      "Epoch 5/10\n",
      "2250/2250 [==============================] - 6s 3ms/step - loss: 0.0391 - acc: 0.9883 - val_loss: 0.0390 - val_acc: 0.9872\n",
      "Epoch 6/10\n",
      "2250/2250 [==============================] - 6s 3ms/step - loss: 0.0381 - acc: 0.9884 - val_loss: 0.0393 - val_acc: 0.9873\n",
      "Epoch 7/10\n",
      "2250/2250 [==============================] - 6s 3ms/step - loss: 0.0376 - acc: 0.9884 - val_loss: 0.0378 - val_acc: 0.9874\n",
      "Epoch 8/10\n",
      "2250/2250 [==============================] - 7s 3ms/step - loss: 0.0371 - acc: 0.9885 - val_loss: 0.0378 - val_acc: 0.9873\n",
      "Epoch 9/10\n",
      "2250/2250 [==============================] - 7s 3ms/step - loss: 0.0374 - acc: 0.9884 - val_loss: 0.0369 - val_acc: 0.9874\n",
      "Epoch 10/10\n",
      "2250/2250 [==============================] - 7s 3ms/step - loss: 0.0365 - acc: 0.9884 - val_loss: 0.0366 - val_acc: 0.9874\n"
     ]
    }
   ],
   "source": [
    "# Train / Validate model\n",
    "\n",
    "history = model.fit(x_train, y_train,\n",
    "epochs = 10,\n",
    "batch_size=32,\n",
    "validation_split=0.2)"
   ]
  },
  {
   "cell_type": "markdown",
   "id": "5ec9308b-9d42-41ec-b632-d34c10cdeae9",
   "metadata": {},
   "source": [
    "### Learning curves"
   ]
  },
  {
   "cell_type": "code",
   "execution_count": 27,
   "id": "509d003b-939d-48e6-b1c1-9a2f99417f22",
   "metadata": {},
   "outputs": [
    {
     "data": {
      "image/png": "[encoded data removed]",
      "text/plain": [
       "<Figure size 640x480 with 1 Axes>"
      ]
     },
     "metadata": {},
     "output_type": "display_data"
    },
    {
     "data": {
      "image/png": "[encoded data removed]",
      "text/plain": [
       "<Figure size 640x480 with 1 Axes>"
      ]
     },
     "metadata": {},
     "output_type": "display_data"
    }
   ],
   "source": [
    "# VALIDATION LOSS curves\n",
    "\n",
    "plt.clf()\n",
    "history_dict = history.history\n",
    "loss_values = history_dict['loss']\n",
    "val_loss_values = history_dict['val_loss']\n",
    "epochs = range(1, (len(history_dict['loss']) + 1))\n",
    "plt.plot(epochs, loss_values, 'bo', label='Training loss')\n",
    "plt.plot(epochs, val_loss_values, 'r', label='Validation loss')\n",
    "plt.title('Training and validation loss')\n",
    "plt.xlabel('Epochs')\n",
    "plt.ylabel('Loss')\n",
    "plt.legend()\n",
    "plt.show()\n",
    "\n",
    "# VALIDATION ACCURACY curves\n",
    "\n",
    "plt.clf()\n",
    "acc_values = history_dict['acc']\n",
    "val_acc_values = history_dict['val_acc']\n",
    "epochs = range(1, (len(history_dict['acc']) + 1))\n",
    "plt.plot(epochs, acc_values, 'bo', label='Training acc')\n",
    "plt.plot(epochs, val_acc_values, 'r', label='Validation acc')\n",
    "plt.title('Training and validation accuracy')\n",
    "plt.xlabel('Epochs')\n",
    "plt.ylabel('Accuracy')\n",
    "plt.legend()\n",
    "plt.show()"
   ]
  },
  {
   "cell_type": "markdown",
   "id": "17bdc045-5244-46a6-b728-5b7d192bf6b0",
   "metadata": {},
   "source": [
    "### Predict Test"
   ]
  },
  {
   "cell_type": "code",
   "execution_count": 28,
   "id": "1a084542-6aab-424c-ba7b-b11b90140971",
   "metadata": {},
   "outputs": [
    {
     "name": "stdout",
     "output_type": "stream",
     "text": [
      "313/313 [==============================] - 0s 552us/step\n",
      "[[1.]\n",
      " [1.]\n",
      " [0.]\n",
      " ...\n",
      " [1.]\n",
      " [1.]\n",
      " [0.]]\n"
     ]
    }
   ],
   "source": [
    "final_predictions = model.predict(x_test)\n",
    "Preds = final_predictions.copy()\n",
    "Preds[ np.where( Preds >= 0.5 ) ] = 1\n",
    "Preds[ np.where( Preds < 0.5 ) ] = 0\n",
    "print(Preds)"
   ]
  },
  {
   "cell_type": "markdown",
   "id": "beade173-62aa-481a-8c4c-60d8a40c2511",
   "metadata": {},
   "source": [
    "### Confusion Matrix"
   ]
  },
  {
   "cell_type": "code",
   "execution_count": 29,
   "id": "4d18ced3-805a-4345-80a2-242d054f4827",
   "metadata": {},
   "outputs": [
    {
     "data": {
      "text/plain": [
       "Text(0.5, 0, 'Predicted label')"
      ]
     },
     "execution_count": 29,
     "metadata": {},
     "output_type": "execute_result"
    },
    {
     "data": {
      "image/png": "[encoded data removed]",
      "text/plain": [
       "<Figure size 640x480 with 2 Axes>"
      ]
     },
     "metadata": {},
     "output_type": "display_data"
    }
   ],
   "source": [
    "cm = confusion_matrix(y_test, Preds)\n",
    "disp = ConfusionMatrixDisplay(cm, \n",
    "                      display_labels = ['resistant', 'sensistive'],\n",
    "\n",
    "                      )\n",
    "disp.plot(cmap='Blues')\n",
    "plt.title('Confusion Matrix for Sequential')\n",
    "plt.ylabel('True label')\n",
    "plt.xlabel('Predicted label')"
   ]
  },
  {
   "cell_type": "code",
   "execution_count": 33,
   "id": "7ecfe1a7-579a-47e8-80c5-201be676b9f2",
   "metadata": {},
   "outputs": [
    {
     "name": "stdout",
     "output_type": "stream",
     "text": [
      "precision: \t 1.0\n",
      "recall: \t 0.9779867920752452\n",
      "accuracy: \t 0.989\n",
      "F1 score: \t 0.9888709024686362\n"
     ]
    }
   ],
   "source": [
    "print ('precision: \\t',precision_score(y_test, Preds))\n",
    "print ('recall: \\t',recall_score(y_test, Preds))\n",
    "print ('accuracy: \\t',accuracy_score(y_test, Preds))\n",
    "print ('F1 score: \\t',f1_score(y_test, Preds))"
   ]
  },
  {
   "cell_type": "markdown",
   "id": "40246b3b-154e-425f-9efd-5cb96edbd3b5",
   "metadata": {},
   "source": [
    "### AUCROC"
   ]
  },
  {
   "cell_type": "code",
   "execution_count": 30,
   "id": "d7a5b1e0-4329-4c37-8b51-d376f08ec2d8",
   "metadata": {},
   "outputs": [
    {
     "name": "stdout",
     "output_type": "stream",
     "text": [
      "AUC: 0.989\n"
     ]
    },
    {
     "data": {
      "image/png": "[encoded data removed]",
      "text/plain": [
       "<Figure size 640x480 with 1 Axes>"
      ]
     },
     "metadata": {},
     "output_type": "display_data"
    }
   ],
   "source": [
    "# calculate AUC\n",
    "auc = roc_auc_score(y_test, Preds)\n",
    "print('AUC: %.3f' % auc)\n",
    "# calculate roc curve\n",
    "fpr, tpr, thresholds = roc_curve(y_test, Preds)\n",
    "plt.plot([0, 1], [0, 1], linestyle='--')\n",
    "# plot the roc curve for the model\n",
    "plt.plot(fpr, tpr, marker='.')\n",
    "plt.title('ROC ')\n",
    "plt.show()"
   ]
  },
  {
   "cell_type": "markdown",
   "id": "8124026b-4537-4135-953c-fd3432406fdd",
   "metadata": {},
   "source": [
    "# Feature Analysis"
   ]
  },
  {
   "cell_type": "code",
   "execution_count": 31,
   "id": "6b4d96b0-459c-4203-9c75-61d7f80cd32c",
   "metadata": {},
   "outputs": [],
   "source": [
    "# import shap\n",
    "\n",
    "# X = x_test\n",
    "# y = y_test\n",
    "# X_train = shap.sample(x_train, 1000)\n",
    "\n",
    "# shap.initjs()\n",
    "\n",
    "# # explain the model's predictions using SHAP\n",
    "# # (same syntax works for LightGBM, CatBoost, scikit-learn and spark models)\n",
    "# explainer = shap.KernelExplainer(model, X_train)\n",
    "# shap_values = explainer.shap_values(X)\n",
    "\n",
    "# # visualize the first prediction's explanation (use matplotlib=True to avoid Javascript)\n",
    "# shap.force_plot(explainer.expected_value, shap_values[0,:], X.iloc[0,:])\n",
    "\n",
    "# shap.summary_plot(shap_values, X, plot_type=\"bar\")\n"
   ]
  },
  {
   "cell_type": "code",
   "execution_count": 42,
   "id": "7c078171-9881-4943-86b1-f14e7a590682",
   "metadata": {},
   "outputs": [
    {
     "name": "stderr",
     "output_type": "stream",
     "text": [
      "/var/folders/q7/tfct42qs0gb4h4vk7cyjyspc0000gn/T/ipykernel_85854/2625290611.py:22: DeprecationWarning: KerasRegressor is deprecated, use Sci-Keras (https://github.com/adriangb/scikeras) instead. See https://www.adriangb.com/scikeras/stable/migration.html for help migrating.\n",
      "  my_model = KerasRegressor(build_fn=base_model)\n"
     ]
    },
    {
     "name": "stdout",
     "output_type": "stream",
     "text": [
      "313/313 [==============================] - 3s 2ms/step - loss: 0.2806 - acc: 0.8624\n",
      "313/313 [==============================] - 0s 591us/step - loss: 0.0512 - acc: 0.9854\n",
      "313/313 [==============================] - 0s 596us/step - loss: 0.0512 - acc: 0.9854\n",
      "313/313 [==============================] - 0s 571us/step - loss: 0.0513 - acc: 0.9854\n",
      "313/313 [==============================] - 0s 583us/step - loss: 0.1163 - acc: 0.9643\n",
      "313/313 [==============================] - 0s 569us/step - loss: 0.0516 - acc: 0.9853\n",
      "313/313 [==============================] - 0s 575us/step - loss: 0.0519 - acc: 0.9854\n",
      "313/313 [==============================] - 0s 573us/step - loss: 0.0512 - acc: 0.9856\n",
      "313/313 [==============================] - 0s 606us/step - loss: 0.0521 - acc: 0.9852\n",
      "313/313 [==============================] - 0s 574us/step - loss: 0.1206 - acc: 0.9636\n",
      "313/313 [==============================] - 0s 571us/step - loss: 0.0526 - acc: 0.9850\n",
      "313/313 [==============================] - 0s 578us/step - loss: 0.0536 - acc: 0.9853\n",
      "313/313 [==============================] - 0s 597us/step - loss: 0.1432 - acc: 0.9567\n",
      "313/313 [==============================] - 0s 573us/step - loss: 0.0520 - acc: 0.9850\n",
      "313/313 [==============================] - 0s 574us/step - loss: 0.0537 - acc: 0.9849\n",
      "313/313 [==============================] - 0s 570us/step - loss: 0.1327 - acc: 0.9607\n",
      "313/313 [==============================] - 0s 572us/step - loss: 0.0513 - acc: 0.9850\n",
      "313/313 [==============================] - 0s 567us/step - loss: 0.0531 - acc: 0.9853\n",
      "313/313 [==============================] - 0s 580us/step - loss: 0.2324 - acc: 0.9496\n",
      "313/313 [==============================] - 0s 577us/step - loss: 0.1243 - acc: 0.9652\n",
      "313/313 [==============================] - 0s 578us/step - loss: 0.0866 - acc: 0.9646\n",
      "313/313 [==============================] - 0s 572us/step - loss: 0.0982 - acc: 0.9681\n",
      "313/313 [==============================] - 0s 572us/step - loss: 0.1722 - acc: 0.9598\n",
      "313/313 [==============================] - 0s 571us/step - loss: 0.1314 - acc: 0.9644\n",
      "313/313 [==============================] - 0s 645us/step - loss: 0.0511 - acc: 0.9860\n",
      "313/313 [==============================] - 0s 595us/step - loss: 0.0541 - acc: 0.9843\n",
      "313/313 [==============================] - 0s 570us/step - loss: 0.0573 - acc: 0.9831\n",
      "313/313 [==============================] - 0s 575us/step - loss: 0.1591 - acc: 0.9604\n",
      "313/313 [==============================] - 0s 575us/step - loss: 0.0548 - acc: 0.9847\n",
      "313/313 [==============================] - 0s 574us/step - loss: 0.1830 - acc: 0.9538\n",
      "313/313 [==============================] - 0s 575us/step - loss: 0.0542 - acc: 0.9850\n",
      "313/313 [==============================] - 0s 586us/step - loss: 0.0537 - acc: 0.9852\n",
      "313/313 [==============================] - 0s 575us/step - loss: 0.1549 - acc: 0.9583\n",
      "313/313 [==============================] - 0s 575us/step - loss: 0.0526 - acc: 0.9854\n",
      "313/313 [==============================] - 0s 575us/step - loss: 0.1556 - acc: 0.9653\n",
      "313/313 [==============================] - 0s 573us/step - loss: 0.0696 - acc: 0.9760\n",
      "313/313 [==============================] - 0s 579us/step - loss: 0.0870 - acc: 0.9764\n",
      "313/313 [==============================] - 0s 575us/step - loss: 0.2025 - acc: 0.9522\n",
      "313/313 [==============================] - 0s 570us/step - loss: 0.3219 - acc: 0.9289\n",
      "313/313 [==============================] - 0s 571us/step - loss: 0.1620 - acc: 0.9695\n",
      "313/313 [==============================] - 0s 577us/step - loss: 0.3150 - acc: 0.9480\n",
      "313/313 [==============================] - 0s 573us/step - loss: 0.2487 - acc: 0.9534\n",
      "313/313 [==============================] - 0s 575us/step - loss: 0.1564 - acc: 0.9590\n",
      "313/313 [==============================] - 0s 580us/step - loss: 0.0518 - acc: 0.9857\n",
      "313/313 [==============================] - 0s 602us/step - loss: 0.0529 - acc: 0.9857\n",
      "313/313 [==============================] - 0s 578us/step - loss: 0.0534 - acc: 0.9858\n",
      "313/313 [==============================] - 0s 581us/step - loss: 0.0752 - acc: 0.9779\n",
      "313/313 [==============================] - 0s 610us/step - loss: 0.0647 - acc: 0.9783\n",
      "313/313 [==============================] - 0s 577us/step - loss: 0.0598 - acc: 0.9808\n",
      "313/313 [==============================] - 0s 575us/step - loss: 0.1823 - acc: 0.9416\n",
      "313/313 [==============================] - 0s 687us/step - loss: 0.0560 - acc: 0.9850\n",
      "313/313 [==============================] - 0s 588us/step - loss: 0.0687 - acc: 0.9848\n",
      "313/313 [==============================] - 0s 579us/step - loss: 0.0514 - acc: 0.9858\n",
      "313/313 [==============================] - 0s 584us/step - loss: 0.0515 - acc: 0.9856\n",
      "313/313 [==============================] - 0s 577us/step - loss: 0.0512 - acc: 0.9854\n",
      "313/313 [==============================] - 0s 568us/step - loss: 0.0512 - acc: 0.9854\n",
      "313/313 [==============================] - 0s 571us/step - loss: 0.0513 - acc: 0.9854\n",
      "313/313 [==============================] - 0s 602us/step - loss: 0.1102 - acc: 0.9664\n",
      "313/313 [==============================] - 0s 579us/step - loss: 0.0513 - acc: 0.9854\n",
      "313/313 [==============================] - 0s 575us/step - loss: 0.0521 - acc: 0.9854\n",
      "313/313 [==============================] - 0s 579us/step - loss: 0.0512 - acc: 0.9854\n",
      "313/313 [==============================] - 0s 583us/step - loss: 0.0524 - acc: 0.9852\n",
      "313/313 [==============================] - 0s 581us/step - loss: 0.1213 - acc: 0.9630\n",
      "313/313 [==============================] - 0s 575us/step - loss: 0.0527 - acc: 0.9853\n",
      "313/313 [==============================] - 0s 573us/step - loss: 0.0527 - acc: 0.9850\n",
      "313/313 [==============================] - 0s 735us/step - loss: 0.1398 - acc: 0.9575\n",
      "313/313 [==============================] - 0s 600us/step - loss: 0.0520 - acc: 0.9857\n",
      "313/313 [==============================] - 0s 579us/step - loss: 0.0524 - acc: 0.9851\n",
      "313/313 [==============================] - 0s 578us/step - loss: 0.1324 - acc: 0.9625\n",
      "313/313 [==============================] - 0s 575us/step - loss: 0.0514 - acc: 0.9851\n",
      "313/313 [==============================] - 0s 580us/step - loss: 0.0527 - acc: 0.9852\n",
      "313/313 [==============================] - 0s 577us/step - loss: 0.2406 - acc: 0.9476\n",
      "313/313 [==============================] - 0s 580us/step - loss: 0.1299 - acc: 0.9630\n",
      "313/313 [==============================] - 0s 572us/step - loss: 0.0897 - acc: 0.9655\n",
      "313/313 [==============================] - 0s 576us/step - loss: 0.1029 - acc: 0.9667\n",
      "313/313 [==============================] - 0s 570us/step - loss: 0.1778 - acc: 0.9588\n",
      "313/313 [==============================] - 0s 581us/step - loss: 0.1276 - acc: 0.9650\n",
      "313/313 [==============================] - 0s 580us/step - loss: 0.0524 - acc: 0.9856\n",
      "313/313 [==============================] - 0s 573us/step - loss: 0.0528 - acc: 0.9851\n",
      "313/313 [==============================] - 0s 572us/step - loss: 0.0580 - acc: 0.9839\n",
      "313/313 [==============================] - 0s 604us/step - loss: 0.1438 - acc: 0.9627\n",
      "313/313 [==============================] - 0s 586us/step - loss: 0.0552 - acc: 0.9847\n",
      "313/313 [==============================] - 0s 577us/step - loss: 0.1915 - acc: 0.9526\n",
      "313/313 [==============================] - 0s 688us/step - loss: 0.0536 - acc: 0.9843\n",
      "313/313 [==============================] - 0s 579us/step - loss: 0.0536 - acc: 0.9852\n",
      "313/313 [==============================] - 0s 579us/step - loss: 0.1450 - acc: 0.9602\n",
      "313/313 [==============================] - 0s 579us/step - loss: 0.0532 - acc: 0.9856\n",
      "313/313 [==============================] - 0s 576us/step - loss: 0.1586 - acc: 0.9651\n",
      "313/313 [==============================] - 0s 583us/step - loss: 0.0699 - acc: 0.9748\n",
      "313/313 [==============================] - 0s 583us/step - loss: 0.0914 - acc: 0.9747\n",
      "313/313 [==============================] - 0s 574us/step - loss: 0.1979 - acc: 0.9514\n",
      "313/313 [==============================] - 0s 578us/step - loss: 0.3209 - acc: 0.9317\n",
      "313/313 [==============================] - 0s 572us/step - loss: 0.1756 - acc: 0.9693\n",
      "313/313 [==============================] - 0s 586us/step - loss: 0.3014 - acc: 0.9496\n",
      "313/313 [==============================] - 0s 579us/step - loss: 0.2398 - acc: 0.9538\n",
      "313/313 [==============================] - 0s 578us/step - loss: 0.1582 - acc: 0.9590\n",
      "313/313 [==============================] - 0s 589us/step - loss: 0.0529 - acc: 0.9856\n",
      "313/313 [==============================] - 0s 580us/step - loss: 0.0531 - acc: 0.9853\n",
      "313/313 [==============================] - 0s 574us/step - loss: 0.0549 - acc: 0.9845\n",
      "313/313 [==============================] - 0s 575us/step - loss: 0.0733 - acc: 0.9785\n",
      "313/313 [==============================] - 0s 575us/step - loss: 0.0641 - acc: 0.9798\n",
      "313/313 [==============================] - 0s 572us/step - loss: 0.0613 - acc: 0.9792\n",
      "313/313 [==============================] - 0s 583us/step - loss: 0.1816 - acc: 0.9398\n",
      "313/313 [==============================] - 0s 580us/step - loss: 0.0555 - acc: 0.9848\n",
      "313/313 [==============================] - 0s 582us/step - loss: 0.0696 - acc: 0.9837\n",
      "313/313 [==============================] - 0s 575us/step - loss: 0.0521 - acc: 0.9862\n",
      "313/313 [==============================] - 0s 577us/step - loss: 0.0526 - acc: 0.9858\n",
      "313/313 [==============================] - 0s 579us/step - loss: 0.0512 - acc: 0.9854\n",
      "313/313 [==============================] - 0s 574us/step - loss: 0.0512 - acc: 0.9854\n",
      "313/313 [==============================] - 0s 580us/step - loss: 0.0513 - acc: 0.9854\n",
      "313/313 [==============================] - 0s 581us/step - loss: 0.1130 - acc: 0.9654\n",
      "313/313 [==============================] - 0s 583us/step - loss: 0.0514 - acc: 0.9854\n",
      "313/313 [==============================] - 0s 587us/step - loss: 0.0519 - acc: 0.9852\n",
      "313/313 [==============================] - 0s 576us/step - loss: 0.0513 - acc: 0.9854\n",
      "313/313 [==============================] - 0s 577us/step - loss: 0.0522 - acc: 0.9852\n",
      "313/313 [==============================] - 0s 581us/step - loss: 0.1188 - acc: 0.9641\n",
      "313/313 [==============================] - 0s 585us/step - loss: 0.0525 - acc: 0.9855\n",
      "313/313 [==============================] - 0s 580us/step - loss: 0.0541 - acc: 0.9850\n",
      "313/313 [==============================] - 0s 581us/step - loss: 0.1396 - acc: 0.9573\n",
      "313/313 [==============================] - 0s 579us/step - loss: 0.0518 - acc: 0.9849\n",
      "313/313 [==============================] - 0s 574us/step - loss: 0.0524 - acc: 0.9845\n",
      "313/313 [==============================] - 0s 636us/step - loss: 0.1361 - acc: 0.9608\n",
      "313/313 [==============================] - 0s 593us/step - loss: 0.0512 - acc: 0.9853\n",
      "313/313 [==============================] - 0s 572us/step - loss: 0.0524 - acc: 0.9856\n",
      "313/313 [==============================] - 0s 576us/step - loss: 0.2476 - acc: 0.9467\n",
      "313/313 [==============================] - 0s 576us/step - loss: 0.1230 - acc: 0.9656\n",
      "313/313 [==============================] - 0s 578us/step - loss: 0.0853 - acc: 0.9661\n",
      "313/313 [==============================] - 0s 582us/step - loss: 0.0960 - acc: 0.9681\n",
      "313/313 [==============================] - 0s 576us/step - loss: 0.1789 - acc: 0.9580\n",
      "313/313 [==============================] - 0s 581us/step - loss: 0.1348 - acc: 0.9652\n",
      "313/313 [==============================] - 0s 796us/step - loss: 0.0517 - acc: 0.9859\n",
      "313/313 [==============================] - 0s 731us/step - loss: 0.0529 - acc: 0.9849\n",
      "313/313 [==============================] - 0s 600us/step - loss: 0.0595 - acc: 0.9832\n",
      "313/313 [==============================] - 0s 584us/step - loss: 0.1482 - acc: 0.9622\n",
      "313/313 [==============================] - 0s 577us/step - loss: 0.0543 - acc: 0.9851\n",
      "313/313 [==============================] - 0s 578us/step - loss: 0.1931 - acc: 0.9502\n",
      "313/313 [==============================] - 0s 576us/step - loss: 0.0547 - acc: 0.9841\n",
      "313/313 [==============================] - 0s 600us/step - loss: 0.0534 - acc: 0.9851\n",
      "313/313 [==============================] - 0s 582us/step - loss: 0.1466 - acc: 0.9601\n",
      "313/313 [==============================] - 0s 579us/step - loss: 0.0537 - acc: 0.9848\n",
      "313/313 [==============================] - 0s 577us/step - loss: 0.1507 - acc: 0.9657\n",
      "313/313 [==============================] - 0s 578us/step - loss: 0.0678 - acc: 0.9756\n",
      "313/313 [==============================] - 0s 578us/step - loss: 0.0858 - acc: 0.9770\n",
      "313/313 [==============================] - 0s 584us/step - loss: 0.2022 - acc: 0.9526\n",
      "313/313 [==============================] - 0s 581us/step - loss: 0.3282 - acc: 0.9316\n",
      "313/313 [==============================] - 0s 579us/step - loss: 0.1670 - acc: 0.9699\n",
      "313/313 [==============================] - 0s 581us/step - loss: 0.3149 - acc: 0.9476\n",
      "313/313 [==============================] - 0s 578us/step - loss: 0.2513 - acc: 0.9534\n",
      "313/313 [==============================] - 0s 585us/step - loss: 0.1452 - acc: 0.9610\n",
      "313/313 [==============================] - 0s 575us/step - loss: 0.0525 - acc: 0.9858\n",
      "313/313 [==============================] - 0s 577us/step - loss: 0.0531 - acc: 0.9857\n",
      "313/313 [==============================] - 0s 583us/step - loss: 0.0541 - acc: 0.9848\n",
      "313/313 [==============================] - 0s 582us/step - loss: 0.0787 - acc: 0.9764\n",
      "313/313 [==============================] - 0s 576us/step - loss: 0.0651 - acc: 0.9787\n",
      "313/313 [==============================] - 0s 686us/step - loss: 0.0616 - acc: 0.9791\n",
      "313/313 [==============================] - 0s 589us/step - loss: 0.1939 - acc: 0.9386\n",
      "313/313 [==============================] - 0s 581us/step - loss: 0.0555 - acc: 0.9847\n",
      "313/313 [==============================] - 0s 580us/step - loss: 0.0705 - acc: 0.9841\n",
      "313/313 [==============================] - 0s 588us/step - loss: 0.0519 - acc: 0.9856\n",
      "313/313 [==============================] - 0s 578us/step - loss: 0.0525 - acc: 0.9857\n",
      "313/313 [==============================] - 0s 575us/step - loss: 0.0512 - acc: 0.9854\n",
      "313/313 [==============================] - 0s 581us/step - loss: 0.0512 - acc: 0.9854\n",
      "313/313 [==============================] - 0s 586us/step - loss: 0.0514 - acc: 0.9854\n",
      "313/313 [==============================] - 0s 580us/step - loss: 0.1110 - acc: 0.9667\n",
      "313/313 [==============================] - 0s 577us/step - loss: 0.0511 - acc: 0.9853\n",
      "313/313 [==============================] - 0s 582us/step - loss: 0.0517 - acc: 0.9853\n",
      "313/313 [==============================] - 0s 578us/step - loss: 0.0512 - acc: 0.9853\n",
      "313/313 [==============================] - 0s 574us/step - loss: 0.0518 - acc: 0.9852\n",
      "313/313 [==============================] - 0s 579us/step - loss: 0.1221 - acc: 0.9629\n",
      "313/313 [==============================] - 0s 583us/step - loss: 0.0529 - acc: 0.9850\n",
      "313/313 [==============================] - 0s 585us/step - loss: 0.0549 - acc: 0.9847\n",
      "313/313 [==============================] - 0s 592us/step - loss: 0.1407 - acc: 0.9560\n",
      "313/313 [==============================] - 0s 595us/step - loss: 0.0524 - acc: 0.9854\n",
      "313/313 [==============================] - 0s 594us/step - loss: 0.0527 - acc: 0.9852\n",
      "313/313 [==============================] - 0s 587us/step - loss: 0.1306 - acc: 0.9622\n",
      "313/313 [==============================] - 0s 594us/step - loss: 0.0513 - acc: 0.9854\n",
      "313/313 [==============================] - 0s 576us/step - loss: 0.0527 - acc: 0.9853\n",
      "313/313 [==============================] - 0s 582us/step - loss: 0.2380 - acc: 0.9491\n",
      "313/313 [==============================] - 0s 582us/step - loss: 0.1268 - acc: 0.9649\n",
      "313/313 [==============================] - 0s 578us/step - loss: 0.0853 - acc: 0.9679\n",
      "313/313 [==============================] - 0s 584us/step - loss: 0.0953 - acc: 0.9681\n",
      "313/313 [==============================] - 0s 582us/step - loss: 0.1789 - acc: 0.9597\n",
      "313/313 [==============================] - 0s 583us/step - loss: 0.1306 - acc: 0.9651\n",
      "313/313 [==============================] - 0s 583us/step - loss: 0.0513 - acc: 0.9861\n",
      "313/313 [==============================] - 0s 583us/step - loss: 0.0523 - acc: 0.9846\n",
      "313/313 [==============================] - 0s 576us/step - loss: 0.0573 - acc: 0.9846\n",
      "313/313 [==============================] - 0s 585us/step - loss: 0.1634 - acc: 0.9586\n",
      "313/313 [==============================] - 0s 585us/step - loss: 0.0539 - acc: 0.9850\n",
      "313/313 [==============================] - 0s 585us/step - loss: 0.1718 - acc: 0.9543\n",
      "313/313 [==============================] - 0s 585us/step - loss: 0.0545 - acc: 0.9849\n",
      "313/313 [==============================] - 0s 578us/step - loss: 0.0537 - acc: 0.9849\n",
      "313/313 [==============================] - 0s 588us/step - loss: 0.1398 - acc: 0.9607\n",
      "313/313 [==============================] - 0s 588us/step - loss: 0.0542 - acc: 0.9852\n",
      "313/313 [==============================] - 0s 580us/step - loss: 0.1602 - acc: 0.9639\n",
      "313/313 [==============================] - 0s 671us/step - loss: 0.0675 - acc: 0.9756\n",
      "313/313 [==============================] - 0s 598us/step - loss: 0.0976 - acc: 0.9732\n",
      "313/313 [==============================] - 0s 582us/step - loss: 0.2141 - acc: 0.9495\n",
      "313/313 [==============================] - 0s 580us/step - loss: 0.3159 - acc: 0.9332\n",
      "313/313 [==============================] - 0s 581us/step - loss: 0.1517 - acc: 0.9720\n",
      "313/313 [==============================] - 0s 576us/step - loss: 0.3026 - acc: 0.9488\n",
      "313/313 [==============================] - 0s 582us/step - loss: 0.2598 - acc: 0.9516\n",
      "313/313 [==============================] - 0s 584us/step - loss: 0.1553 - acc: 0.9590\n",
      "313/313 [==============================] - 0s 590us/step - loss: 0.0533 - acc: 0.9857\n",
      "313/313 [==============================] - 0s 582us/step - loss: 0.0531 - acc: 0.9859\n",
      "313/313 [==============================] - 0s 579us/step - loss: 0.0544 - acc: 0.9844\n",
      "313/313 [==============================] - 0s 575us/step - loss: 0.0706 - acc: 0.9787\n",
      "313/313 [==============================] - 0s 590us/step - loss: 0.0694 - acc: 0.9774\n",
      "313/313 [==============================] - 0s 589us/step - loss: 0.0615 - acc: 0.9792\n",
      "313/313 [==============================] - 0s 591us/step - loss: 0.1904 - acc: 0.9384\n",
      "313/313 [==============================] - 0s 583us/step - loss: 0.0546 - acc: 0.9847\n",
      "313/313 [==============================] - 0s 584us/step - loss: 0.0695 - acc: 0.9845\n",
      "313/313 [==============================] - 0s 588us/step - loss: 0.0524 - acc: 0.9855\n",
      "313/313 [==============================] - 0s 578us/step - loss: 0.0513 - acc: 0.9861\n",
      "313/313 [==============================] - 0s 578us/step - loss: 0.0512 - acc: 0.9854\n",
      "313/313 [==============================] - 0s 584us/step - loss: 0.0512 - acc: 0.9854\n",
      "313/313 [==============================] - 0s 582us/step - loss: 0.0514 - acc: 0.9854\n",
      "313/313 [==============================] - 0s 583us/step - loss: 0.1111 - acc: 0.9660\n",
      "313/313 [==============================] - 0s 583us/step - loss: 0.0513 - acc: 0.9854\n",
      "313/313 [==============================] - 0s 579us/step - loss: 0.0520 - acc: 0.9854\n",
      "313/313 [==============================] - 0s 593us/step - loss: 0.0513 - acc: 0.9856\n",
      "313/313 [==============================] - 0s 590us/step - loss: 0.0524 - acc: 0.9849\n",
      "313/313 [==============================] - 0s 599us/step - loss: 0.1262 - acc: 0.9606\n",
      "313/313 [==============================] - 0s 588us/step - loss: 0.0524 - acc: 0.9853\n",
      "313/313 [==============================] - 0s 592us/step - loss: 0.0525 - acc: 0.9852\n",
      "313/313 [==============================] - 0s 586us/step - loss: 0.1342 - acc: 0.9591\n",
      "313/313 [==============================] - 0s 585us/step - loss: 0.0521 - acc: 0.9852\n",
      "313/313 [==============================] - 0s 584us/step - loss: 0.0529 - acc: 0.9848\n",
      "313/313 [==============================] - 0s 582us/step - loss: 0.1306 - acc: 0.9620\n",
      "313/313 [==============================] - 0s 590us/step - loss: 0.0513 - acc: 0.9852\n",
      "313/313 [==============================] - 0s 750us/step - loss: 0.0522 - acc: 0.9856\n",
      "313/313 [==============================] - 0s 601us/step - loss: 0.2328 - acc: 0.9500\n",
      "313/313 [==============================] - 0s 594us/step - loss: 0.1265 - acc: 0.9633\n",
      "313/313 [==============================] - 0s 597us/step - loss: 0.0862 - acc: 0.9668\n",
      "313/313 [==============================] - 0s 591us/step - loss: 0.1041 - acc: 0.9664\n",
      "313/313 [==============================] - 0s 668us/step - loss: 0.1765 - acc: 0.9602\n",
      "313/313 [==============================] - 0s 604us/step - loss: 0.1365 - acc: 0.9646\n",
      "313/313 [==============================] - 0s 585us/step - loss: 0.0520 - acc: 0.9858\n",
      "313/313 [==============================] - 0s 582us/step - loss: 0.0530 - acc: 0.9848\n",
      "313/313 [==============================] - 0s 581us/step - loss: 0.0575 - acc: 0.9834\n",
      "313/313 [==============================] - 0s 583us/step - loss: 0.1497 - acc: 0.9611\n",
      "313/313 [==============================] - 0s 582us/step - loss: 0.0553 - acc: 0.9839\n",
      "313/313 [==============================] - 0s 588us/step - loss: 0.1775 - acc: 0.9546\n",
      "313/313 [==============================] - 0s 586us/step - loss: 0.0548 - acc: 0.9847\n",
      "313/313 [==============================] - 0s 604us/step - loss: 0.0533 - acc: 0.9854\n",
      "313/313 [==============================] - 0s 599us/step - loss: 0.1370 - acc: 0.9630\n",
      "313/313 [==============================] - 0s 593us/step - loss: 0.0541 - acc: 0.9848\n",
      "313/313 [==============================] - 0s 585us/step - loss: 0.1568 - acc: 0.9648\n",
      "313/313 [==============================] - 0s 602us/step - loss: 0.0690 - acc: 0.9754\n",
      "313/313 [==============================] - 0s 586us/step - loss: 0.0974 - acc: 0.9737\n",
      "313/313 [==============================] - 0s 602us/step - loss: 0.1927 - acc: 0.9517\n",
      "313/313 [==============================] - 0s 588us/step - loss: 0.3337 - acc: 0.9304\n",
      "313/313 [==============================] - 0s 592us/step - loss: 0.1699 - acc: 0.9696\n",
      "313/313 [==============================] - 0s 596us/step - loss: 0.3170 - acc: 0.9482\n",
      "313/313 [==============================] - 0s 591us/step - loss: 0.2680 - acc: 0.9515\n",
      "313/313 [==============================] - 0s 598us/step - loss: 0.1529 - acc: 0.9574\n",
      "313/313 [==============================] - 0s 591us/step - loss: 0.0536 - acc: 0.9849\n",
      "313/313 [==============================] - 0s 586us/step - loss: 0.0533 - acc: 0.9854\n",
      "313/313 [==============================] - 0s 593us/step - loss: 0.0532 - acc: 0.9851\n",
      "313/313 [==============================] - 0s 596us/step - loss: 0.0743 - acc: 0.9774\n",
      "313/313 [==============================] - 0s 633us/step - loss: 0.0664 - acc: 0.9784\n",
      "313/313 [==============================] - 0s 589us/step - loss: 0.0606 - acc: 0.9804\n",
      "313/313 [==============================] - 0s 592us/step - loss: 0.1792 - acc: 0.9415\n",
      "313/313 [==============================] - 0s 587us/step - loss: 0.0559 - acc: 0.9846\n",
      "313/313 [==============================] - 0s 592us/step - loss: 0.0700 - acc: 0.9836\n",
      "313/313 [==============================] - 0s 587us/step - loss: 0.0522 - acc: 0.9865\n",
      "313/313 [==============================] - 0s 587us/step - loss: 0.0509 - acc: 0.9859\n",
      "313/313 [==============================] - 0s 584us/step - loss: 0.0512 - acc: 0.9854\n"
     ]
    },
    {
     "ename": "AttributeError",
     "evalue": "'numpy.ndarray' object has no attribute 'columns'",
     "output_type": "error",
     "traceback": [
      "\u001b[0;31m---------------------------------------------------------------------------\u001b[0m",
      "\u001b[0;31mAttributeError\u001b[0m                            Traceback (most recent call last)",
      "Cell \u001b[0;32mIn [42], line 25\u001b[0m\n\u001b[1;32m     23\u001b[0m my_model\u001b[38;5;241m.\u001b[39mfit(X,y)\n\u001b[1;32m     24\u001b[0m perm \u001b[38;5;241m=\u001b[39m PermutationImportance(my_model, random_state\u001b[38;5;241m=\u001b[39m\u001b[38;5;241m1\u001b[39m)\u001b[38;5;241m.\u001b[39mfit(X,y)\n\u001b[0;32m---> 25\u001b[0m eli5\u001b[38;5;241m.\u001b[39mshow_weights(perm, feature_names \u001b[38;5;241m=\u001b[39m \u001b[43mX\u001b[49m\u001b[38;5;241;43m.\u001b[39;49m\u001b[43mcolumns\u001b[49m\u001b[38;5;241m.\u001b[39mtolist())\n",
      "\u001b[0;31mAttributeError\u001b[0m: 'numpy.ndarray' object has no attribute 'columns'"
     ]
    }
   ],
   "source": [
    "from keras.wrappers.scikit_learn import KerasClassifier, KerasRegressor\n",
    "import eli5\n",
    "from eli5.sklearn import PermutationImportance\n",
    "\n",
    "def base_model():\n",
    "    # Model ... 64 CNN window 27 & Bidirectional GRU accuracy = 0.99\n",
    "\n",
    "    model = Sequential()\n",
    "    model.add(Embedding(64, 1, input_length=maxlen))\n",
    "    model.add(layers.Conv1D(128, 27, activation='relu'))\n",
    "    model.add(layers.MaxPooling1D(3))\n",
    "    model.add(layers.Dropout(0.5))\n",
    "    model.add(layers.Conv1D(128, 9, activation='relu'))\n",
    "    model.add(layers.Dropout(0.5))\n",
    "    model.add(layers.Bidirectional(layers.GRU(32, dropout=0.2, recurrent_dropout=0.2)))\n",
    "    model.add(Dense(1, activation='sigmoid'))\n",
    "    model.compile(optimizer='adam', loss='binary_crossentropy', metrics=['acc'])\n",
    "    return(model)\n",
    "\n",
    "X = x_test\n",
    "y = y_test\n",
    "my_model = KerasRegressor(build_fn=base_model)   \n",
    "my_model.fit(X,y)\n",
    "perm = PermutationImportance(my_model, random_state=1).fit(X,y)"
   ]
  },
  {
   "cell_type": "code",
   "execution_count": 101,
   "id": "258cd0dd-67dd-4226-a54b-955b201cf2f7",
   "metadata": {},
   "outputs": [
    {
     "name": "stdout",
     "output_type": "stream",
     "text": [
      "[3.13818455e-05 1.41863525e-04 6.11314908e-02 1.77579373e-04\n",
      " 7.43540376e-04 3.65406275e-05 9.89963859e-04 7.06244081e-02\n",
      " 1.42949224e-03 2.38472149e-03 8.83039474e-02 8.97580385e-04\n",
      " 1.62931010e-03 8.12797725e-02 1.33787841e-04 1.41814798e-03\n",
      " 1.87106022e-01 7.49262571e-02 3.54266241e-02 4.81011584e-02\n",
      " 1.25673842e-01 8.09985757e-02 5.18915057e-04 1.82608441e-03\n",
      " 6.75622076e-03 1.01648700e-01 3.52600738e-03 1.32191321e-01\n",
      " 3.16403508e-03 2.33962238e-03 9.34995770e-02 2.38588378e-03\n",
      " 1.05202076e-01 1.75860271e-02 4.06515062e-02 1.50700903e-01\n",
      " 2.72951448e-01 1.14029613e-01 2.58970422e-01 2.02329430e-01\n",
      " 1.02411261e-01 1.62671357e-03 1.92871541e-03 2.83282772e-03\n",
      " 2.32339695e-02 1.47688717e-02 9.77694169e-03 1.34296012e-01\n",
      " 4.30560783e-03 1.84881955e-02 8.20665061e-04 5.63416630e-04\n",
      " 0.00000000e+00]\n",
      "36\n"
     ]
    }
   ],
   "source": [
    "print(perm.feature_importances_)\n",
    "index = np.argmax(perm.feature_importances_)\n",
    "print(index)"
   ]
  },
  {
   "cell_type": "code",
   "execution_count": 45,
   "id": "ff204f82-b033-40af-a15d-7edd51cb3630",
   "metadata": {},
   "outputs": [
    {
     "data": {
      "text/html": [
       "\n",
       "    <style>\n",
       "    table.eli5-weights tr:hover {\n",
       "        filter: brightness(85%);\n",
       "    }\n",
       "</style>\n",
       "\n",
       "\n",
       "\n",
       "    \n",
       "\n",
       "    \n",
       "\n",
       "    \n",
       "\n",
       "    \n",
       "\n",
       "    \n",
       "\n",
       "    \n",
       "\n",
       "\n",
       "    \n",
       "\n",
       "    \n",
       "\n",
       "    \n",
       "\n",
       "    \n",
       "\n",
       "    \n",
       "\n",
       "    \n",
       "\n",
       "\n",
       "    \n",
       "\n",
       "    \n",
       "\n",
       "    \n",
       "\n",
       "    \n",
       "\n",
       "    \n",
       "        <table class=\"eli5-weights eli5-feature-importances\" style=\"border-collapse: collapse; border: none; margin-top: 0em; table-layout: auto;\">\n",
       "    <thead>\n",
       "    <tr style=\"border: none;\">\n",
       "        <th style=\"padding: 0 1em 0 0.5em; text-align: right; border: none;\">Weight</th>\n",
       "        <th style=\"padding: 0 0.5em 0 0.5em; text-align: left; border: none;\">Feature</th>\n",
       "    </tr>\n",
       "    </thead>\n",
       "    <tbody>\n",
       "    \n",
       "        <tr style=\"background-color: hsl(120, 100.00%, 80.00%); border: none;\">\n",
       "            <td style=\"padding: 0 1em 0 0.5em; text-align: right; border: none;\">\n",
       "                0.2730\n",
       "                \n",
       "                    &plusmn; 0.0124\n",
       "                \n",
       "            </td>\n",
       "            <td style=\"padding: 0 0.5em 0 0.5em; text-align: left; border: none;\">\n",
       "                x36\n",
       "            </td>\n",
       "        </tr>\n",
       "    \n",
       "        <tr style=\"background-color: hsl(120, 100.00%, 80.72%); border: none;\">\n",
       "            <td style=\"padding: 0 1em 0 0.5em; text-align: right; border: none;\">\n",
       "                0.2590\n",
       "                \n",
       "                    &plusmn; 0.0135\n",
       "                \n",
       "            </td>\n",
       "            <td style=\"padding: 0 0.5em 0 0.5em; text-align: left; border: none;\">\n",
       "                x38\n",
       "            </td>\n",
       "        </tr>\n",
       "    \n",
       "        <tr style=\"background-color: hsl(120, 100.00%, 83.78%); border: none;\">\n",
       "            <td style=\"padding: 0 1em 0 0.5em; text-align: right; border: none;\">\n",
       "                0.2023\n",
       "                \n",
       "                    &plusmn; 0.0193\n",
       "                \n",
       "            </td>\n",
       "            <td style=\"padding: 0 0.5em 0 0.5em; text-align: left; border: none;\">\n",
       "                x39\n",
       "            </td>\n",
       "        </tr>\n",
       "    \n",
       "        <tr style=\"background-color: hsl(120, 100.00%, 84.65%); border: none;\">\n",
       "            <td style=\"padding: 0 1em 0 0.5em; text-align: right; border: none;\">\n",
       "                0.1871\n",
       "                \n",
       "                    &plusmn; 0.0112\n",
       "                \n",
       "            </td>\n",
       "            <td style=\"padding: 0 0.5em 0 0.5em; text-align: left; border: none;\">\n",
       "                x16\n",
       "            </td>\n",
       "        </tr>\n",
       "    \n",
       "        <tr style=\"background-color: hsl(120, 100.00%, 86.80%); border: none;\">\n",
       "            <td style=\"padding: 0 1em 0 0.5em; text-align: right; border: none;\">\n",
       "                0.1507\n",
       "                \n",
       "                    &plusmn; 0.0141\n",
       "                \n",
       "            </td>\n",
       "            <td style=\"padding: 0 0.5em 0 0.5em; text-align: left; border: none;\">\n",
       "                x35\n",
       "            </td>\n",
       "        </tr>\n",
       "    \n",
       "        <tr style=\"background-color: hsl(120, 100.00%, 87.83%); border: none;\">\n",
       "            <td style=\"padding: 0 1em 0 0.5em; text-align: right; border: none;\">\n",
       "                0.1343\n",
       "                \n",
       "                    &plusmn; 0.0113\n",
       "                \n",
       "            </td>\n",
       "            <td style=\"padding: 0 0.5em 0 0.5em; text-align: left; border: none;\">\n",
       "                x47\n",
       "            </td>\n",
       "        </tr>\n",
       "    \n",
       "        <tr style=\"background-color: hsl(120, 100.00%, 87.96%); border: none;\">\n",
       "            <td style=\"padding: 0 1em 0 0.5em; text-align: right; border: none;\">\n",
       "                0.1322\n",
       "                \n",
       "                    &plusmn; 0.0162\n",
       "                \n",
       "            </td>\n",
       "            <td style=\"padding: 0 0.5em 0 0.5em; text-align: left; border: none;\">\n",
       "                x27\n",
       "            </td>\n",
       "        </tr>\n",
       "    \n",
       "        <tr style=\"background-color: hsl(120, 100.00%, 88.38%); border: none;\">\n",
       "            <td style=\"padding: 0 1em 0 0.5em; text-align: right; border: none;\">\n",
       "                0.1257\n",
       "                \n",
       "                    &plusmn; 0.0050\n",
       "                \n",
       "            </td>\n",
       "            <td style=\"padding: 0 0.5em 0 0.5em; text-align: left; border: none;\">\n",
       "                x20\n",
       "            </td>\n",
       "        </tr>\n",
       "    \n",
       "        <tr style=\"background-color: hsl(120, 100.00%, 89.14%); border: none;\">\n",
       "            <td style=\"padding: 0 1em 0 0.5em; text-align: right; border: none;\">\n",
       "                0.1140\n",
       "                \n",
       "                    &plusmn; 0.0162\n",
       "                \n",
       "            </td>\n",
       "            <td style=\"padding: 0 0.5em 0 0.5em; text-align: left; border: none;\">\n",
       "                x37\n",
       "            </td>\n",
       "        </tr>\n",
       "    \n",
       "        <tr style=\"background-color: hsl(120, 100.00%, 89.74%); border: none;\">\n",
       "            <td style=\"padding: 0 1em 0 0.5em; text-align: right; border: none;\">\n",
       "                0.1052\n",
       "                \n",
       "                    &plusmn; 0.0065\n",
       "                \n",
       "            </td>\n",
       "            <td style=\"padding: 0 0.5em 0 0.5em; text-align: left; border: none;\">\n",
       "                x32\n",
       "            </td>\n",
       "        </tr>\n",
       "    \n",
       "        <tr style=\"background-color: hsl(120, 100.00%, 89.93%); border: none;\">\n",
       "            <td style=\"padding: 0 1em 0 0.5em; text-align: right; border: none;\">\n",
       "                0.1024\n",
       "                \n",
       "                    &plusmn; 0.0091\n",
       "                \n",
       "            </td>\n",
       "            <td style=\"padding: 0 0.5em 0 0.5em; text-align: left; border: none;\">\n",
       "                x40\n",
       "            </td>\n",
       "        </tr>\n",
       "    \n",
       "        <tr style=\"background-color: hsl(120, 100.00%, 89.98%); border: none;\">\n",
       "            <td style=\"padding: 0 1em 0 0.5em; text-align: right; border: none;\">\n",
       "                0.1016\n",
       "                \n",
       "                    &plusmn; 0.0146\n",
       "                \n",
       "            </td>\n",
       "            <td style=\"padding: 0 0.5em 0 0.5em; text-align: left; border: none;\">\n",
       "                x25\n",
       "            </td>\n",
       "        </tr>\n",
       "    \n",
       "        <tr style=\"background-color: hsl(120, 100.00%, 90.55%); border: none;\">\n",
       "            <td style=\"padding: 0 1em 0 0.5em; text-align: right; border: none;\">\n",
       "                0.0935\n",
       "                \n",
       "                    &plusmn; 0.0124\n",
       "                \n",
       "            </td>\n",
       "            <td style=\"padding: 0 0.5em 0 0.5em; text-align: left; border: none;\">\n",
       "                x30\n",
       "            </td>\n",
       "        </tr>\n",
       "    \n",
       "        <tr style=\"background-color: hsl(120, 100.00%, 90.92%); border: none;\">\n",
       "            <td style=\"padding: 0 1em 0 0.5em; text-align: right; border: none;\">\n",
       "                0.0883\n",
       "                \n",
       "                    &plusmn; 0.0059\n",
       "                \n",
       "            </td>\n",
       "            <td style=\"padding: 0 0.5em 0 0.5em; text-align: left; border: none;\">\n",
       "                x10\n",
       "            </td>\n",
       "        </tr>\n",
       "    \n",
       "        <tr style=\"background-color: hsl(120, 100.00%, 91.43%); border: none;\">\n",
       "            <td style=\"padding: 0 1em 0 0.5em; text-align: right; border: none;\">\n",
       "                0.0813\n",
       "                \n",
       "                    &plusmn; 0.0040\n",
       "                \n",
       "            </td>\n",
       "            <td style=\"padding: 0 0.5em 0 0.5em; text-align: left; border: none;\">\n",
       "                x13\n",
       "            </td>\n",
       "        </tr>\n",
       "    \n",
       "        <tr style=\"background-color: hsl(120, 100.00%, 91.46%); border: none;\">\n",
       "            <td style=\"padding: 0 1em 0 0.5em; text-align: right; border: none;\">\n",
       "                0.0810\n",
       "                \n",
       "                    &plusmn; 0.0063\n",
       "                \n",
       "            </td>\n",
       "            <td style=\"padding: 0 0.5em 0 0.5em; text-align: left; border: none;\">\n",
       "                x21\n",
       "            </td>\n",
       "        </tr>\n",
       "    \n",
       "        <tr style=\"background-color: hsl(120, 100.00%, 91.91%); border: none;\">\n",
       "            <td style=\"padding: 0 1em 0 0.5em; text-align: right; border: none;\">\n",
       "                0.0749\n",
       "                \n",
       "                    &plusmn; 0.0048\n",
       "                \n",
       "            </td>\n",
       "            <td style=\"padding: 0 0.5em 0 0.5em; text-align: left; border: none;\">\n",
       "                x17\n",
       "            </td>\n",
       "        </tr>\n",
       "    \n",
       "        <tr style=\"background-color: hsl(120, 100.00%, 92.24%); border: none;\">\n",
       "            <td style=\"padding: 0 1em 0 0.5em; text-align: right; border: none;\">\n",
       "                0.0706\n",
       "                \n",
       "                    &plusmn; 0.0049\n",
       "                \n",
       "            </td>\n",
       "            <td style=\"padding: 0 0.5em 0 0.5em; text-align: left; border: none;\">\n",
       "                x7\n",
       "            </td>\n",
       "        </tr>\n",
       "    \n",
       "        <tr style=\"background-color: hsl(120, 100.00%, 92.98%); border: none;\">\n",
       "            <td style=\"padding: 0 1em 0 0.5em; text-align: right; border: none;\">\n",
       "                0.0611\n",
       "                \n",
       "                    &plusmn; 0.0044\n",
       "                \n",
       "            </td>\n",
       "            <td style=\"padding: 0 0.5em 0 0.5em; text-align: left; border: none;\">\n",
       "                x2\n",
       "            </td>\n",
       "        </tr>\n",
       "    \n",
       "        <tr style=\"background-color: hsl(120, 100.00%, 94.07%); border: none;\">\n",
       "            <td style=\"padding: 0 1em 0 0.5em; text-align: right; border: none;\">\n",
       "                0.0481\n",
       "                \n",
       "                    &plusmn; 0.0071\n",
       "                \n",
       "            </td>\n",
       "            <td style=\"padding: 0 0.5em 0 0.5em; text-align: left; border: none;\">\n",
       "                x19\n",
       "            </td>\n",
       "        </tr>\n",
       "    \n",
       "    \n",
       "        \n",
       "            <tr style=\"background-color: hsl(120, 100.00%, 94.07%); border: none;\">\n",
       "                <td colspan=\"2\" style=\"padding: 0 0.5em 0 0.5em; text-align: center; border: none; white-space: nowrap;\">\n",
       "                    <i>&hellip; 33 more &hellip;</i>\n",
       "                </td>\n",
       "            </tr>\n",
       "        \n",
       "    \n",
       "    </tbody>\n",
       "</table>\n",
       "    \n",
       "\n",
       "    \n",
       "\n",
       "\n",
       "    \n",
       "\n",
       "    \n",
       "\n",
       "    \n",
       "\n",
       "    \n",
       "\n",
       "    \n",
       "\n",
       "    \n",
       "\n",
       "\n",
       "\n"
      ],
      "text/plain": [
       "<IPython.core.display.HTML object>"
      ]
     },
     "execution_count": 45,
     "metadata": {},
     "output_type": "execute_result"
    }
   ],
   "source": [
    "\n",
    "# eli5.show_weights(perm, feature_names = list(tokenizer.word_index.keys()))\n",
    "eli5.show_weights(perm)"
   ]
  },
  {
   "cell_type": "markdown",
   "id": "1f9f4845-32c3-4776-8532-20112d6cad79",
   "metadata": {},
   "source": [
    "The 36th feature is the feature with the greatest weight. Determine the most common token/codon at this index"
   ]
  },
  {
   "cell_type": "code",
   "execution_count": 109,
   "id": "516973eb-e7a9-4bfd-88af-f0fd7a4c7383",
   "metadata": {},
   "outputs": [
    {
     "name": "stdout",
     "output_type": "stream",
     "text": [
      "[(11, 48640), (12, 7475), (1, 6705)]\n",
      "[(12, 47165), (11, 13137), (14, 7480)]\n",
      "[(14, 47275), (11, 13174), (12, 6705)]\n",
      "[(11, 48737), (13, 7483), (14, 6705)]\n",
      "[(13, 47313), (9, 7484), (11, 6705)]\n"
     ]
    }
   ],
   "source": [
    "import collections\n",
    "from collections import Counter\n",
    "x35 = [x[35 - 1] for x in Xpad]\n",
    "x36 = [x[36 - 1] for x in Xpad]\n",
    "x37 = [x[37 - 1] for x in Xpad]\n",
    "x38 = [x[38 - 1] for x in Xpad]\n",
    "x39 = [x[39 - 1] for x in Xpad]\n",
    "print(Counter(x35).most_common(3))\n",
    "print(Counter(x36).most_common(3))\n",
    "print(Counter(x37).most_common(3))\n",
    "print(Counter(x38).most_common(3))\n",
    "print(Counter(x39).most_common(3))"
   ]
  },
  {
   "cell_type": "code",
   "execution_count": 110,
   "id": "fc881fc9-3e13-425c-9f24-aacb26f5df7d",
   "metadata": {},
   "outputs": [
    {
     "name": "stdout",
     "output_type": "stream",
     "text": [
      "('gtt', 11)\n",
      "('gaa', 12)\n",
      "('aaa', 13)\n",
      "('cag', 14)\n"
     ]
    }
   ],
   "source": [
    "items = list(d.items())\n",
    "print(items[11-1])\n",
    "print(items[12-1])\n",
    "print(items[13-1])\n",
    "print(items[14-1])"
   ]
  },
  {
   "cell_type": "code",
   "execution_count": 149,
   "id": "d3e158d9-a8f5-4f25-b1e3-edb9d0a93014",
   "metadata": {},
   "outputs": [
    {
     "data": {
      "text/plain": [
       "'GTTGAA'"
      ]
     },
     "execution_count": 149,
     "metadata": {},
     "output_type": "execute_result"
    }
   ],
   "source": [
    "string_search = (items[11-1][0] + items[12-1][0]).upper()\n",
    "string_search"
   ]
  },
  {
   "cell_type": "code",
   "execution_count": 151,
   "id": "31f456be-5732-49c1-9325-829d7a2c64e7",
   "metadata": {},
   "outputs": [
    {
     "data": {
      "text/plain": [
       "0.9818"
      ]
     },
     "execution_count": 151,
     "metadata": {},
     "output_type": "execute_result"
    }
   ],
   "source": [
    "proportion = sum(string_search in s for s in data_df['genes']) / len(data_df['genes'])\n",
    "proportion"
   ]
  },
  {
   "cell_type": "code",
   "execution_count": 155,
   "id": "9d5d79eb-176b-4621-92f8-5136040fe11a",
   "metadata": {},
   "outputs": [
    {
     "data": {
      "text/plain": [
       "[('TGACTG', 47100),\n",
       " ('CAATGG', 6409),\n",
       " ('CTGCAA', 6033),\n",
       " ('AATTGA', 5062),\n",
       " ('GGAAAT', 4327)]"
      ]
     },
     "execution_count": 155,
     "metadata": {},
     "output_type": "execute_result"
    }
   ],
   "source": [
    "Counter([s[12*3-1: 13*3-1+ 3] for s in data_df['genes']]).most_common(5)\n"
   ]
  }
 ],
 "metadata": {
  "kernelspec": {
   "display_name": "Python 3 (ipykernel)",
   "language": "python",
   "name": "python3"
  },
  "language_info": {
   "codemirror_mode": {
    "name": "ipython",
    "version": 3
   },
   "file_extension": ".py",
   "mimetype": "text/x-python",
   "name": "python",
   "nbconvert_exporter": "python",
   "pygments_lexer": "ipython3",
   "version": "3.9.18"
  }
 },
 "nbformat": 4,
 "nbformat_minor": 5
}
